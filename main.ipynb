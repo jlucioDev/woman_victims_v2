{
 "cells": [
  {
   "cell_type": "code",
   "execution_count": 1,
   "metadata": {},
   "outputs": [],
   "source": [
    "import pandas as pd\n",
    "import requests as rq\n",
    "\n",
    "url = 'https://servicodados.ibge.gov.br/api/v1/localidades/estados/pa/municipios'\n",
    "   \n",
    "res = rq.request(\"GET\", url)\n",
    "\n",
    "#Creates a data frame with the Municipalities column.\n",
    "if res.status_code == 200:\n",
    "    df_munic = pd.DataFrame({'id': [], 'localidade': []})\n",
    "    \n",
    "    for id, munic in enumerate(res.json()):\n",
    "        df_munic.loc[id] = [str(munic['id'])[:6], munic['nome']]\n"
   ]
  },
  {
   "cell_type": "code",
   "execution_count": 2,
   "metadata": {},
   "outputs": [],
   "source": [
    "indicators = ['90201','90335','90358','90626','90640']\n",
    "\n",
    "url = \"https://servicodados.ibge.gov.br/api/v1/pesquisas/1/periodos/2019/indicadores/\"\n",
    "\n",
    "# Adding indicators to the end of the url\n",
    "for i, ind in enumerate(indicators):\n",
    "    if i != (len(indicators)-1):\n",
    "        url += ind + '|'\n",
    "    else:\n",
    "        url += ind + '/'\n",
    "        \n",
    "# Function to Formatting final url\n",
    "def urlResultadosPorMunicipos(url, df):\n",
    "    url += 'resultados/'    \n",
    "\n",
    "    for i, row in df_munic.iterrows():\n",
    "        if i != (len(df)-1):\n",
    "            url += row.id + '|'\n",
    "        else:\n",
    "            url += row.id + '/'\n",
    "    \n",
    "    return url\n",
    "\n",
    "\n",
    "url = urlResultadosPorMunicipos(url, df_munic)\n",
    "\n",
    "# return json results\n",
    "res = rq.request(\"GET\", url)\n"
   ]
  },
  {
   "cell_type": "code",
   "execution_count": 3,
   "metadata": {},
   "outputs": [],
   "source": [
    "if res.status_code == 200:\n",
    "    \n",
    "    #Scrolls through the json and inserts the data into the main dataframe for each selected indicator.\n",
    "    for indicador in res.json():\n",
    "        df_temp = pd.DataFrame(indicador['res'])\n",
    "        df_temp = df_temp[['localidade', 'res']]\n",
    "        df_temp.rename(columns = {'localidade':'id', 'res': indicador['id']}, inplace = True)\n",
    "        \n",
    "        #It replaces the words \"Yes\" and \"No\" with binary information 1 and 0.\n",
    "        df_temp[indicador['id']] = df_temp[indicador['id']].map(lambda x: 1 if x['2019']  == 'Sim' else 0)\n",
    "        df_munic = pd.merge(df_munic, df_temp, on=\"id\")"
   ]
  },
  {
   "cell_type": "code",
   "execution_count": 4,
   "metadata": {},
   "outputs": [],
   "source": [
    "df_munic['Rede_de_Protecao_assistencia'] = df_munic[90201] + df_munic[90335] + df_munic[90358] + df_munic[90626] + df_munic[90640]\n",
    "df_munic = df_munic[['id', 'localidade', 'Rede_de_Protecao_assistencia']]"
   ]
  },
  {
   "cell_type": "code",
   "execution_count": 5,
   "metadata": {},
   "outputs": [],
   "source": [
    "url = \"https://servicodados.ibge.gov.br/api/v1/pesquisas/37/periodos/2010/indicadores/30255/\"\n",
    "\n",
    "url = urlResultadosPorMunicipos(url, df_munic)\n",
    "        \n",
    "res = rq.request(\"GET\", url)\n",
    "\n",
    "# correction of missing values\n",
    "x = res.json()\n",
    "x[0]['res'][73]['res']['2010'] = '0'\n",
    "x\n",
    "\n",
    "df_temp = pd.json_normalize(x[0]['res'])\n",
    "df_temp.rename(columns={'localidade': 'id', 'res.2010': 'IDH'}, inplace=True)\n",
    "df_temp = df_temp[['id', 'IDH']]\n",
    "df_munic = pd.merge(df_munic, df_temp, on='id')"
   ]
  },
  {
   "cell_type": "code",
   "execution_count": 6,
   "metadata": {},
   "outputs": [],
   "source": [
    "url = \"https://servicodados.ibge.gov.br/api/v1/pesquisas/38/periodos/2019/indicadores/47001/\"\n",
    "\n",
    "url = urlResultadosPorMunicipos(url, df_munic)   \n",
    "res = rq.request(\"GET\", url)\n",
    "df_temp = pd.json_normalize(res.json()[0]['res'])\n",
    "df_temp.rename(columns={'localidade': 'id', 'res.2019': 'PIB'}, inplace=True)\n",
    "df_temp = df_temp[['id', 'PIB']]\n",
    "df_munic = pd.merge(df_munic, df_temp, on='id')"
   ]
  },
  {
   "cell_type": "code",
   "execution_count": 7,
   "metadata": {},
   "outputs": [],
   "source": [
    "url = \"https://servicodados.ibge.gov.br/api/v1/pesquisas/36/periodos/2003/indicadores/30252/\"\n",
    "\n",
    "url = urlResultadosPorMunicipos(url, df_munic)\n",
    "        \n",
    "res = rq.request(\"GET\", url)\n",
    "# correction of missing values\n",
    "x = res.json()\n",
    "x[0]['res'].append({'localidade': '150475', 'res': {'2003': '0.00'}, 'notas': {'2003': None}})\n",
    "\n",
    "df_temp = pd.json_normalize(x[0]['res'])\n",
    "df_temp.rename(columns={'localidade': 'id', 'res.2003': 'GINI'}, inplace=True)\n",
    "df_temp = df_temp[['id', 'GINI']]\n",
    "df_munic = pd.merge(df_munic, df_temp, on='id', how='left')"
   ]
  },
  {
   "cell_type": "code",
   "execution_count": 8,
   "metadata": {},
   "outputs": [],
   "source": [
    "df_munic['Rede_de_Protecao_assistencia'] = pd.to_numeric(df_munic['Rede_de_Protecao_assistencia'])\n",
    "df_munic['IDH'] = pd.to_numeric(df_munic['IDH'])\n",
    "df_munic['PIB'] = pd.to_numeric(df_munic['PIB'])\n",
    "df_munic['GINI'] = pd.to_numeric(df_munic['GINI'])"
   ]
  },
  {
   "cell_type": "code",
   "execution_count": 9,
   "metadata": {},
   "outputs": [],
   "source": [
    "#cols = df_munic[['Rede_de_Protecao_assistencia', 'IDH', 'PIB', 'GINI']]\n",
    "\n",
    "def normalize(df_columns):\n",
    "    for i in df_columns:\n",
    "        mx = df_munic[[i]].max()[0]\n",
    "        mn = df_munic[[i]].min()[0]\n",
    "        df_munic[[i]] = (df_munic[[i]] - mn) / (mx - mn)\n",
    "\n",
    "def deNormalize(df_columns, dmin, dmax):\n",
    "    for i in df_columns:\n",
    "        df_munic[[i]] = df_munic[[i]] * (dmax - dmin) + dmin\n",
    "\n",
    "#normalize(cols)\n",
    "normalize(df_munic.iloc[:,2:].columns)"
   ]
  },
  {
   "cell_type": "code",
   "execution_count": 10,
   "metadata": {},
   "outputs": [
    {
     "data": {
      "text/html": [
       "<div>\n",
       "<style scoped>\n",
       "    .dataframe tbody tr th:only-of-type {\n",
       "        vertical-align: middle;\n",
       "    }\n",
       "\n",
       "    .dataframe tbody tr th {\n",
       "        vertical-align: top;\n",
       "    }\n",
       "\n",
       "    .dataframe thead th {\n",
       "        text-align: right;\n",
       "    }\n",
       "</style>\n",
       "<table border=\"1\" class=\"dataframe\">\n",
       "  <thead>\n",
       "    <tr style=\"text-align: right;\">\n",
       "      <th></th>\n",
       "      <th>Rede_de_Protecao_assistencia</th>\n",
       "      <th>IDH</th>\n",
       "      <th>PIB</th>\n",
       "      <th>GINI</th>\n",
       "    </tr>\n",
       "  </thead>\n",
       "  <tbody>\n",
       "    <tr>\n",
       "      <th>count</th>\n",
       "      <td>144.000000</td>\n",
       "      <td>144.000000</td>\n",
       "      <td>144.000000</td>\n",
       "      <td>144.000000</td>\n",
       "    </tr>\n",
       "    <tr>\n",
       "      <th>mean</th>\n",
       "      <td>0.277778</td>\n",
       "      <td>0.774138</td>\n",
       "      <td>0.044827</td>\n",
       "      <td>0.761196</td>\n",
       "    </tr>\n",
       "    <tr>\n",
       "      <th>std</th>\n",
       "      <td>0.236656</td>\n",
       "      <td>0.099055</td>\n",
       "      <td>0.117906</td>\n",
       "      <td>0.081778</td>\n",
       "    </tr>\n",
       "    <tr>\n",
       "      <th>min</th>\n",
       "      <td>0.000000</td>\n",
       "      <td>0.000000</td>\n",
       "      <td>0.000000</td>\n",
       "      <td>0.000000</td>\n",
       "    </tr>\n",
       "    <tr>\n",
       "      <th>25%</th>\n",
       "      <td>0.150000</td>\n",
       "      <td>0.732909</td>\n",
       "      <td>0.010107</td>\n",
       "      <td>0.734694</td>\n",
       "    </tr>\n",
       "    <tr>\n",
       "      <th>50%</th>\n",
       "      <td>0.200000</td>\n",
       "      <td>0.780831</td>\n",
       "      <td>0.018945</td>\n",
       "      <td>0.775510</td>\n",
       "    </tr>\n",
       "    <tr>\n",
       "      <th>75%</th>\n",
       "      <td>0.400000</td>\n",
       "      <td>0.822386</td>\n",
       "      <td>0.037740</td>\n",
       "      <td>0.795918</td>\n",
       "    </tr>\n",
       "    <tr>\n",
       "      <th>max</th>\n",
       "      <td>1.000000</td>\n",
       "      <td>1.000000</td>\n",
       "      <td>1.000000</td>\n",
       "      <td>1.000000</td>\n",
       "    </tr>\n",
       "  </tbody>\n",
       "</table>\n",
       "</div>"
      ],
      "text/plain": [
       "       Rede_de_Protecao_assistencia         IDH         PIB        GINI\n",
       "count                    144.000000  144.000000  144.000000  144.000000\n",
       "mean                       0.277778    0.774138    0.044827    0.761196\n",
       "std                        0.236656    0.099055    0.117906    0.081778\n",
       "min                        0.000000    0.000000    0.000000    0.000000\n",
       "25%                        0.150000    0.732909    0.010107    0.734694\n",
       "50%                        0.200000    0.780831    0.018945    0.775510\n",
       "75%                        0.400000    0.822386    0.037740    0.795918\n",
       "max                        1.000000    1.000000    1.000000    1.000000"
      ]
     },
     "execution_count": 10,
     "metadata": {},
     "output_type": "execute_result"
    }
   ],
   "source": [
    "df_munic.iloc[:,2:].describe()"
   ]
  },
  {
   "cell_type": "code",
   "execution_count": 11,
   "metadata": {},
   "outputs": [
    {
     "data": {
      "text/plain": [
       "[[0.11250000000000002,\n",
       "  0.7194872654155496,\n",
       "  0.005962145567280686,\n",
       "  0.7255102040816327],\n",
       " [0.15000000000000002,\n",
       "  0.7329088471849866,\n",
       "  0.010107113043029458,\n",
       "  0.7346938775510204],\n",
       " [0.2, 0.7808310991957104, 0.01894514113870411, 0.7755102040816326],\n",
       " [0.4, 0.8223860589812333, 0.03774022954802127, 0.7959183673469388],\n",
       " [0.4375, 0.8358076407506703, 0.04188519702377004, 0.8051020408163265]]"
      ]
     },
     "execution_count": 11,
     "metadata": {},
     "output_type": "execute_result"
    }
   ],
   "source": [
    "import numpy as np\n",
    "import seaborn as sns\n",
    "import matplotlib.pyplot as plt\n",
    "\n",
    "def create_boxplot(dataset):\n",
    "\n",
    "    Q3 = np.quantile(dataset, 0.75)\n",
    "    Q1 = np.quantile(dataset, 0.25)\n",
    "    MEDIAN = np.quantile(dataset, 0.50)\n",
    "    IQR = Q3 - Q1\n",
    "\n",
    "    lower_range = Q1 - 0.15 * IQR\n",
    "    upper_range = Q3 + 0.15 * IQR\n",
    "\n",
    "    while lower_range < 0:\n",
    "        dst = dataset[dataset[dataset.columns[0]] > Q1]\n",
    "        \n",
    "        Q3 = np.quantile(dst, 0.75)\n",
    "        Q1 = np.quantile(dst, 0.25)\n",
    "        MEDIAN = np.quantile(dst, 0.50)\n",
    "        IQR = Q3 - Q1\n",
    "    \n",
    "        lower_range = Q1 - 0.15 * IQR\n",
    "        upper_range = Q3 + 0.15 * IQR\n",
    "\n",
    "        dataset = dst\n",
    "        \n",
    "    print(f\"Q3 = {Q3}\")\n",
    "    print(f\"Q1 = {Q1}\")\n",
    "    print(f\"IQR = {IQR}\")\n",
    "    print(f\"Median = {MEDIAN}\")\n",
    "    print(f\"Lower_Range = {lower_range}\")\n",
    "    print(f\"Upper_Range = {upper_range}\")\n",
    "\n",
    "    ax = sns.boxplot(dataset, orient=\"h\")\n",
    "    plt.xlim(0, 1)\n",
    "    plt.show()\n",
    "    \n",
    "\n",
    "\n",
    "def describe_limits(dataset):\n",
    "    res = np.zeros((5, 4))\n",
    "    cont = 0\n",
    "    for c in dataset.columns:\n",
    "        Q3 = np.quantile(dataset[c], 0.75)\n",
    "        M = np.quantile(dataset[c], 0.50)\n",
    "        Q1 = np.quantile(dataset[c], 0.25)\n",
    "        IQR = Q3 - Q1\n",
    "\n",
    "        lower_range = Q1 - 0.15 * IQR\n",
    "        upper_range = Q3 + 0.15 * IQR\n",
    "\n",
    "        while lower_range < 0:\n",
    "            dst = dataset[dataset[c] > Q1]\n",
    "            \n",
    "            Q3 = np.quantile(dst, 0.75)\n",
    "            Q1 = np.quantile(dst, 0.25)\n",
    "            M = np.quantile(dst, 0.50)\n",
    "            IQR = Q3 - Q1\n",
    "        \n",
    "            lower_range = Q1 - 0.15 * IQR\n",
    "            upper_range = Q3 + 0.15 * IQR\n",
    "\n",
    "            dataset = dst\n",
    "\n",
    "        res[0][cont] = lower_range\n",
    "        res[1][cont] = Q1\n",
    "        res[2][cont] = M\n",
    "        res[3][cont] = Q3\n",
    "        res[4][cont] = upper_range\n",
    "\n",
    "        cont += 1\n",
    "    \n",
    "    \n",
    "    return res.tolist()\n",
    "         \n",
    "\n",
    "describe_limits(df_munic.iloc[:,2:])"
   ]
  },
  {
   "cell_type": "code",
   "execution_count": null,
   "metadata": {},
   "outputs": [],
   "source": []
  },
  {
   "cell_type": "code",
   "execution_count": 12,
   "metadata": {},
   "outputs": [
    {
     "data": {
      "text/plain": [
       "<AxesSubplot: ylabel='Count'>"
      ]
     },
     "execution_count": 12,
     "metadata": {},
     "output_type": "execute_result"
    },
    {
     "data": {
      "image/png": "[encoded data removed]",
      "text/plain": [
       "<Figure size 640x480 with 1 Axes>"
      ]
     },
     "metadata": {},
     "output_type": "display_data"
    }
   ],
   "source": [
    "import seaborn as sns\n",
    "sns.histplot(df_munic.iloc[:,2:3], kde=True)\n"
   ]
  },
  {
   "cell_type": "code",
   "execution_count": 13,
   "metadata": {},
   "outputs": [
    {
     "name": "stdout",
     "output_type": "stream",
     "text": [
      "Q3 = 0.4\n",
      "Q1 = 0.15000000000000002\n",
      "IQR = 0.25\n",
      "Median = 0.2\n",
      "Lower_Range = 0.11250000000000002\n",
      "Upper_Range = 0.4375\n"
     ]
    },
    {
     "data": {
      "image/png": "[encoded data removed]",
      "text/plain": [
       "<Figure size 640x480 with 1 Axes>"
      ]
     },
     "metadata": {},
     "output_type": "display_data"
    }
   ],
   "source": [
    "create_boxplot(df_munic.iloc[:,2:3])"
   ]
  },
  {
   "cell_type": "code",
   "execution_count": 14,
   "metadata": {},
   "outputs": [
    {
     "data": {
      "text/plain": [
       "<AxesSubplot: ylabel='Count'>"
      ]
     },
     "execution_count": 14,
     "metadata": {},
     "output_type": "execute_result"
    },
    {
     "data": {
      "image/png": "[encoded data removed]",
      "text/plain": [
       "<Figure size 640x480 with 1 Axes>"
      ]
     },
     "metadata": {},
     "output_type": "display_data"
    }
   ],
   "source": [
    "sns.histplot(df_munic.iloc[:,3:4], kde=True)\n"
   ]
  },
  {
   "cell_type": "code",
   "execution_count": 15,
   "metadata": {},
   "outputs": [
    {
     "name": "stdout",
     "output_type": "stream",
     "text": [
      "Q3 = 0.8223860589812333\n",
      "Q1 = 0.7329088471849866\n",
      "IQR = 0.08947721179624668\n",
      "Median = 0.7808310991957104\n",
      "Lower_Range = 0.7194872654155496\n",
      "Upper_Range = 0.8358076407506703\n"
     ]
    },
    {
     "data": {
      "image/png": "[encoded data removed]",
      "text/plain": [
       "<Figure size 640x480 with 1 Axes>"
      ]
     },
     "metadata": {},
     "output_type": "display_data"
    }
   ],
   "source": [
    "create_boxplot(df_munic.iloc[:,3:4])\n"
   ]
  },
  {
   "cell_type": "code",
   "execution_count": 16,
   "metadata": {},
   "outputs": [
    {
     "data": {
      "text/plain": [
       "<AxesSubplot: ylabel='Count'>"
      ]
     },
     "execution_count": 16,
     "metadata": {},
     "output_type": "execute_result"
    },
    {
     "data": {
      "image/png": "[encoded data removed]",
      "text/plain": [
       "<Figure size 640x480 with 1 Axes>"
      ]
     },
     "metadata": {},
     "output_type": "display_data"
    }
   ],
   "source": [
    "sns.histplot(df_munic.iloc[:,4:5], kde=True)\n"
   ]
  },
  {
   "cell_type": "code",
   "execution_count": 17,
   "metadata": {},
   "outputs": [
    {
     "data": {
      "text/plain": [
       "0.04188519702377004"
      ]
     },
     "execution_count": 17,
     "metadata": {},
     "output_type": "execute_result"
    }
   ],
   "source": [
    "rr = 0.03774022954802127 + 0.15 * 0.02763311650499181\n",
    "\n",
    "rr"
   ]
  },
  {
   "cell_type": "code",
   "execution_count": 18,
   "metadata": {},
   "outputs": [
    {
     "name": "stdout",
     "output_type": "stream",
     "text": [
      "Q3 = 0.03774022954802127\n",
      "Q1 = 0.010107113043029458\n",
      "IQR = 0.02763311650499181\n",
      "Median = 0.01894514113870411\n",
      "Lower_Range = 0.005962145567280686\n",
      "Upper_Range = 0.04188519702377004\n"
     ]
    },
    {
     "data": {
      "image/png": "[encoded data removed]",
      "text/plain": [
       "<Figure size 640x480 with 1 Axes>"
      ]
     },
     "metadata": {},
     "output_type": "display_data"
    }
   ],
   "source": [
    "create_boxplot(df_munic.iloc[:,4:5])"
   ]
  },
  {
   "cell_type": "code",
   "execution_count": 19,
   "metadata": {},
   "outputs": [
    {
     "data": {
      "text/plain": [
       "<AxesSubplot: ylabel='Count'>"
      ]
     },
     "execution_count": 19,
     "metadata": {},
     "output_type": "execute_result"
    },
    {
     "data": {
      "image/png": "[encoded data removed]",
      "text/plain": [
       "<Figure size 640x480 with 1 Axes>"
      ]
     },
     "metadata": {},
     "output_type": "display_data"
    }
   ],
   "source": [
    "sns.histplot(df_munic.iloc[:,5:6], kde=True)"
   ]
  },
  {
   "cell_type": "code",
   "execution_count": 20,
   "metadata": {},
   "outputs": [
    {
     "data": {
      "text/plain": [
       "0.8877551020408163"
      ]
     },
     "execution_count": 20,
     "metadata": {},
     "output_type": "execute_result"
    }
   ],
   "source": [
    "rr = 0.7959183673469388 + 1.5 * 0.061224489795918324\n",
    "rr"
   ]
  },
  {
   "cell_type": "code",
   "execution_count": 21,
   "metadata": {},
   "outputs": [
    {
     "name": "stdout",
     "output_type": "stream",
     "text": [
      "Q3 = 0.7959183673469388\n",
      "Q1 = 0.7346938775510204\n",
      "IQR = 0.061224489795918324\n",
      "Median = 0.7755102040816326\n",
      "Lower_Range = 0.7255102040816327\n",
      "Upper_Range = 0.8051020408163265\n"
     ]
    },
    {
     "data": {
      "image/png": "[encoded data removed]",
      "text/plain": [
       "<Figure size 640x480 with 1 Axes>"
      ]
     },
     "metadata": {},
     "output_type": "display_data"
    }
   ],
   "source": [
    "create_boxplot(df_munic.iloc[:,5:6])"
   ]
  },
  {
   "cell_type": "code",
   "execution_count": 40,
   "metadata": {},
   "outputs": [
    {
     "name": "stdout",
     "output_type": "stream",
     "text": [
      "Caps:  [array([0.60723861, 0.60723861]), array([0.92627346, 0.92627346])]\n",
      "Outliers:  [array([0.5603217158176943, 0.0, 0.9624664879356568, 1.0,\n",
      "       0.9584450402144772], dtype=object)]\n",
      "Boxes:  [array([0.73290885, 0.73290885, 0.82238606, 0.82238606, 0.73290885])]\n",
      "Medians:  [array([0.7808311, 0.7808311])]\n",
      "Whiskers:  [array([0.73290885, 0.60723861]), array([0.82238606, 0.92627346])]\n"
     ]
    },
    {
     "data": {
      "image/png": "[encoded data removed]",
      "text/plain": [
       "<Figure size 640x480 with 1 Axes>"
      ]
     },
     "metadata": {},
     "output_type": "display_data"
    }
   ],
   "source": [
    "ddf = df_munic.iloc[:,3:4]\n",
    "\n",
    "_, bp = pd.DataFrame.boxplot(ddf, return_type='both')\n",
    "caps = [cap.get_ydata() for cap in bp[\"caps\"]]\n",
    "outliers = [flier.get_ydata() for flier in bp[\"fliers\"]]\n",
    "boxes = [box.get_ydata() for box in bp[\"boxes\"]]\n",
    "medians = [median.get_ydata() for median in bp[\"medians\"]]\n",
    "whiskers = [whiskers.get_ydata() for whiskers in bp[\"whiskers\"]]\n",
    "\n",
    "print(\"Caps: \", caps) # limites inferior e superior\n",
    "print(\"Outliers: \", outliers) # Desconsiderar\n",
    "print(\"Boxes: \", boxes) # Q1 e Q3\n",
    "print(\"Medians: \", medians) # Mediana\n",
    "print(\"Whiskers: \", whiskers) # Q1 Q3 LimSup LimInf\n",
    "\n"
   ]
  },
  {
   "cell_type": "code",
   "execution_count": null,
   "metadata": {},
   "outputs": [],
   "source": []
  },
  {
   "cell_type": "code",
   "execution_count": 22,
   "metadata": {},
   "outputs": [],
   "source": [
    "T = df_munic.iloc[:, 2:].values\n"
   ]
  },
  {
   "cell_type": "code",
   "execution_count": 23,
   "metadata": {},
   "outputs": [],
   "source": [
    "\n",
    "import numpy as np\n",
    "\n",
    "Z = np.around(T[:30], decimals = 4)\n",
    "X = np.around(T, decimals = 4)"
   ]
  },
  {
   "cell_type": "code",
   "execution_count": 24,
   "metadata": {},
   "outputs": [
    {
     "data": {
      "text/plain": [
       "array([[0.1125    , 0.71948727, 0.00596215, 0.7255102 ],\n",
       "       [0.15      , 0.73290885, 0.01010711, 0.73469388],\n",
       "       [0.2       , 0.7808311 , 0.01894514, 0.7755102 ],\n",
       "       [0.4       , 0.82238606, 0.03774023, 0.79591837],\n",
       "       [0.4375    , 0.83580764, 0.0418852 , 0.80510204]])"
      ]
     },
     "execution_count": 24,
     "metadata": {},
     "output_type": "execute_result"
    }
   ],
   "source": [
    "     #IP       #IDH      #PIB      #GINI\n",
    "Q = [0.05,      0.05,       0.05,      0.05]\n",
    "P = [0.08,      0.08,       0.08,      0.08]\n",
    "V = [2.0,      2.0,       2.0,      2.0]\n",
    "W = [0.5,      0.5,       0.5,      0.5]\n",
    "\n",
    "B = describe_limits(df_munic.iloc[:,2:6])\n",
    "\n",
    "np.array(B)"
   ]
  },
  {
   "cell_type": "code",
   "execution_count": 25,
   "metadata": {},
   "outputs": [
    {
     "data": {
      "text/html": [
       "<div>\n",
       "<style scoped>\n",
       "    .dataframe tbody tr th:only-of-type {\n",
       "        vertical-align: middle;\n",
       "    }\n",
       "\n",
       "    .dataframe tbody tr th {\n",
       "        vertical-align: top;\n",
       "    }\n",
       "\n",
       "    .dataframe thead th {\n",
       "        text-align: right;\n",
       "    }\n",
       "</style>\n",
       "<table border=\"1\" class=\"dataframe\">\n",
       "  <thead>\n",
       "    <tr style=\"text-align: right;\">\n",
       "      <th></th>\n",
       "      <th>id</th>\n",
       "      <th>localidade</th>\n",
       "      <th>Rede_de_Protecao_assistencia</th>\n",
       "      <th>IDH</th>\n",
       "      <th>PIB</th>\n",
       "      <th>GINI</th>\n",
       "    </tr>\n",
       "  </thead>\n",
       "  <tbody>\n",
       "    <tr>\n",
       "      <th>8</th>\n",
       "      <td>150070</td>\n",
       "      <td>Anajás</td>\n",
       "      <td>0.2</td>\n",
       "      <td>0.648794</td>\n",
       "      <td>0.006700</td>\n",
       "      <td>0.734694</td>\n",
       "    </tr>\n",
       "    <tr>\n",
       "      <th>11</th>\n",
       "      <td>150090</td>\n",
       "      <td>Augusto Corrêa</td>\n",
       "      <td>0.2</td>\n",
       "      <td>0.697051</td>\n",
       "      <td>0.005867</td>\n",
       "      <td>0.816327</td>\n",
       "    </tr>\n",
       "    <tr>\n",
       "      <th>12</th>\n",
       "      <td>150095</td>\n",
       "      <td>Aurora do Pará</td>\n",
       "      <td>0.0</td>\n",
       "      <td>0.695710</td>\n",
       "      <td>0.005827</td>\n",
       "      <td>0.734694</td>\n",
       "    </tr>\n",
       "    <tr>\n",
       "      <th>13</th>\n",
       "      <td>150100</td>\n",
       "      <td>Aveiro</td>\n",
       "      <td>0.2</td>\n",
       "      <td>0.725201</td>\n",
       "      <td>0.007470</td>\n",
       "      <td>0.734694</td>\n",
       "    </tr>\n",
       "    <tr>\n",
       "      <th>14</th>\n",
       "      <td>150110</td>\n",
       "      <td>Bagre</td>\n",
       "      <td>0.2</td>\n",
       "      <td>0.631367</td>\n",
       "      <td>0.004351</td>\n",
       "      <td>0.755102</td>\n",
       "    </tr>\n",
       "    <tr>\n",
       "      <th>27</th>\n",
       "      <td>150180</td>\n",
       "      <td>Breves</td>\n",
       "      <td>0.6</td>\n",
       "      <td>0.674263</td>\n",
       "      <td>0.008677</td>\n",
       "      <td>0.816327</td>\n",
       "    </tr>\n",
       "    <tr>\n",
       "      <th>29</th>\n",
       "      <td>150195</td>\n",
       "      <td>Cachoeira do Piriá</td>\n",
       "      <td>0.0</td>\n",
       "      <td>0.634048</td>\n",
       "      <td>0.000000</td>\n",
       "      <td>0.714286</td>\n",
       "    </tr>\n",
       "    <tr>\n",
       "      <th>31</th>\n",
       "      <td>150210</td>\n",
       "      <td>Cametá</td>\n",
       "      <td>0.2</td>\n",
       "      <td>0.773458</td>\n",
       "      <td>0.010081</td>\n",
       "      <td>0.795918</td>\n",
       "    </tr>\n",
       "    <tr>\n",
       "      <th>36</th>\n",
       "      <td>150250</td>\n",
       "      <td>Chaves</td>\n",
       "      <td>0.6</td>\n",
       "      <td>0.607239</td>\n",
       "      <td>0.009919</td>\n",
       "      <td>0.693878</td>\n",
       "    </tr>\n",
       "    <tr>\n",
       "      <th>37</th>\n",
       "      <td>150260</td>\n",
       "      <td>Colares</td>\n",
       "      <td>0.4</td>\n",
       "      <td>0.806971</td>\n",
       "      <td>0.005755</td>\n",
       "      <td>0.673469</td>\n",
       "    </tr>\n",
       "    <tr>\n",
       "      <th>42</th>\n",
       "      <td>150280</td>\n",
       "      <td>Curralinho</td>\n",
       "      <td>0.0</td>\n",
       "      <td>0.672922</td>\n",
       "      <td>0.006927</td>\n",
       "      <td>0.795918</td>\n",
       "    </tr>\n",
       "    <tr>\n",
       "      <th>44</th>\n",
       "      <td>150290</td>\n",
       "      <td>Curuçá</td>\n",
       "      <td>0.0</td>\n",
       "      <td>0.780161</td>\n",
       "      <td>0.006502</td>\n",
       "      <td>0.775510</td>\n",
       "    </tr>\n",
       "    <tr>\n",
       "      <th>56</th>\n",
       "      <td>150350</td>\n",
       "      <td>Irituia</td>\n",
       "      <td>0.2</td>\n",
       "      <td>0.749330</td>\n",
       "      <td>0.004875</td>\n",
       "      <td>0.755102</td>\n",
       "    </tr>\n",
       "    <tr>\n",
       "      <th>66</th>\n",
       "      <td>150430</td>\n",
       "      <td>Maracanã</td>\n",
       "      <td>0.4</td>\n",
       "      <td>0.764075</td>\n",
       "      <td>0.008309</td>\n",
       "      <td>0.775510</td>\n",
       "    </tr>\n",
       "    <tr>\n",
       "      <th>67</th>\n",
       "      <td>150440</td>\n",
       "      <td>Marapanim</td>\n",
       "      <td>0.2</td>\n",
       "      <td>0.816354</td>\n",
       "      <td>0.008391</td>\n",
       "      <td>0.714286</td>\n",
       "    </tr>\n",
       "    <tr>\n",
       "      <th>70</th>\n",
       "      <td>150450</td>\n",
       "      <td>Melgaço</td>\n",
       "      <td>0.2</td>\n",
       "      <td>0.560322</td>\n",
       "      <td>0.003949</td>\n",
       "      <td>0.673469</td>\n",
       "    </tr>\n",
       "    <tr>\n",
       "      <th>75</th>\n",
       "      <td>150490</td>\n",
       "      <td>Muaná</td>\n",
       "      <td>0.4</td>\n",
       "      <td>0.733244</td>\n",
       "      <td>0.006567</td>\n",
       "      <td>0.755102</td>\n",
       "    </tr>\n",
       "    <tr>\n",
       "      <th>78</th>\n",
       "      <td>150500</td>\n",
       "      <td>Nova Timboteua</td>\n",
       "      <td>0.4</td>\n",
       "      <td>0.816354</td>\n",
       "      <td>0.007579</td>\n",
       "      <td>0.714286</td>\n",
       "    </tr>\n",
       "    <tr>\n",
       "      <th>91</th>\n",
       "      <td>150560</td>\n",
       "      <td>Peixe-Boi</td>\n",
       "      <td>0.2</td>\n",
       "      <td>0.778820</td>\n",
       "      <td>0.004432</td>\n",
       "      <td>0.734694</td>\n",
       "    </tr>\n",
       "    <tr>\n",
       "      <th>94</th>\n",
       "      <td>150570</td>\n",
       "      <td>Ponta de Pedras</td>\n",
       "      <td>0.0</td>\n",
       "      <td>0.753351</td>\n",
       "      <td>0.006129</td>\n",
       "      <td>0.734694</td>\n",
       "    </tr>\n",
       "    <tr>\n",
       "      <th>96</th>\n",
       "      <td>150590</td>\n",
       "      <td>Porto de Moz</td>\n",
       "      <td>0.4</td>\n",
       "      <td>0.674263</td>\n",
       "      <td>0.008531</td>\n",
       "      <td>0.775510</td>\n",
       "    </tr>\n",
       "    <tr>\n",
       "      <th>99</th>\n",
       "      <td>150611</td>\n",
       "      <td>Quatipuru</td>\n",
       "      <td>0.4</td>\n",
       "      <td>0.727882</td>\n",
       "      <td>0.006886</td>\n",
       "      <td>0.714286</td>\n",
       "    </tr>\n",
       "    <tr>\n",
       "      <th>103</th>\n",
       "      <td>150619</td>\n",
       "      <td>Rurópolis</td>\n",
       "      <td>0.0</td>\n",
       "      <td>0.734584</td>\n",
       "      <td>0.007201</td>\n",
       "      <td>0.734694</td>\n",
       "    </tr>\n",
       "    <tr>\n",
       "      <th>105</th>\n",
       "      <td>150630</td>\n",
       "      <td>Salvaterra</td>\n",
       "      <td>0.2</td>\n",
       "      <td>0.815013</td>\n",
       "      <td>0.007930</td>\n",
       "      <td>0.755102</td>\n",
       "    </tr>\n",
       "    <tr>\n",
       "      <th>107</th>\n",
       "      <td>150640</td>\n",
       "      <td>Santa Cruz do Arari</td>\n",
       "      <td>0.2</td>\n",
       "      <td>0.746649</td>\n",
       "      <td>0.005932</td>\n",
       "      <td>0.714286</td>\n",
       "    </tr>\n",
       "    <tr>\n",
       "      <th>109</th>\n",
       "      <td>150655</td>\n",
       "      <td>Santa Luzia do Pará</td>\n",
       "      <td>0.4</td>\n",
       "      <td>0.731903</td>\n",
       "      <td>0.009498</td>\n",
       "      <td>0.775510</td>\n",
       "    </tr>\n",
       "    <tr>\n",
       "      <th>114</th>\n",
       "      <td>150690</td>\n",
       "      <td>Santarém Novo</td>\n",
       "      <td>0.4</td>\n",
       "      <td>0.786863</td>\n",
       "      <td>0.005579</td>\n",
       "      <td>0.673469</td>\n",
       "    </tr>\n",
       "    <tr>\n",
       "      <th>116</th>\n",
       "      <td>150710</td>\n",
       "      <td>São Caetano de Odivelas</td>\n",
       "      <td>0.4</td>\n",
       "      <td>0.784182</td>\n",
       "      <td>0.009584</td>\n",
       "      <td>0.775510</td>\n",
       "    </tr>\n",
       "    <tr>\n",
       "      <th>122</th>\n",
       "      <td>150746</td>\n",
       "      <td>São João da Ponta</td>\n",
       "      <td>0.2</td>\n",
       "      <td>0.781501</td>\n",
       "      <td>0.007667</td>\n",
       "      <td>0.714286</td>\n",
       "    </tr>\n",
       "    <tr>\n",
       "      <th>123</th>\n",
       "      <td>150747</td>\n",
       "      <td>São João de Pirabas</td>\n",
       "      <td>0.2</td>\n",
       "      <td>0.722520</td>\n",
       "      <td>0.006826</td>\n",
       "      <td>0.734694</td>\n",
       "    </tr>\n",
       "    <tr>\n",
       "      <th>126</th>\n",
       "      <td>150770</td>\n",
       "      <td>São Sebastião da Boa Vista</td>\n",
       "      <td>0.0</td>\n",
       "      <td>0.747989</td>\n",
       "      <td>0.008189</td>\n",
       "      <td>0.693878</td>\n",
       "    </tr>\n",
       "    <tr>\n",
       "      <th>129</th>\n",
       "      <td>150790</td>\n",
       "      <td>Soure</td>\n",
       "      <td>0.6</td>\n",
       "      <td>0.824397</td>\n",
       "      <td>0.008402</td>\n",
       "      <td>0.775510</td>\n",
       "    </tr>\n",
       "    <tr>\n",
       "      <th>131</th>\n",
       "      <td>150796</td>\n",
       "      <td>Terra Alta</td>\n",
       "      <td>0.0</td>\n",
       "      <td>0.810992</td>\n",
       "      <td>0.002435</td>\n",
       "      <td>0.775510</td>\n",
       "    </tr>\n",
       "    <tr>\n",
       "      <th>134</th>\n",
       "      <td>150803</td>\n",
       "      <td>Tracuateua</td>\n",
       "      <td>0.2</td>\n",
       "      <td>0.711796</td>\n",
       "      <td>0.007357</td>\n",
       "      <td>0.714286</td>\n",
       "    </tr>\n",
       "    <tr>\n",
       "      <th>140</th>\n",
       "      <td>150820</td>\n",
       "      <td>Vigia</td>\n",
       "      <td>0.0</td>\n",
       "      <td>0.827078</td>\n",
       "      <td>0.006443</td>\n",
       "      <td>0.734694</td>\n",
       "    </tr>\n",
       "    <tr>\n",
       "      <th>141</th>\n",
       "      <td>150830</td>\n",
       "      <td>Viseu</td>\n",
       "      <td>0.2</td>\n",
       "      <td>0.690349</td>\n",
       "      <td>0.009042</td>\n",
       "      <td>0.755102</td>\n",
       "    </tr>\n",
       "  </tbody>\n",
       "</table>\n",
       "</div>"
      ],
      "text/plain": [
       "         id                  localidade  Rede_de_Protecao_assistencia  \\\n",
       "8    150070                      Anajás                           0.2   \n",
       "11   150090              Augusto Corrêa                           0.2   \n",
       "12   150095              Aurora do Pará                           0.0   \n",
       "13   150100                      Aveiro                           0.2   \n",
       "14   150110                       Bagre                           0.2   \n",
       "27   150180                      Breves                           0.6   \n",
       "29   150195          Cachoeira do Piriá                           0.0   \n",
       "31   150210                      Cametá                           0.2   \n",
       "36   150250                      Chaves                           0.6   \n",
       "37   150260                     Colares                           0.4   \n",
       "42   150280                  Curralinho                           0.0   \n",
       "44   150290                      Curuçá                           0.0   \n",
       "56   150350                     Irituia                           0.2   \n",
       "66   150430                    Maracanã                           0.4   \n",
       "67   150440                   Marapanim                           0.2   \n",
       "70   150450                     Melgaço                           0.2   \n",
       "75   150490                       Muaná                           0.4   \n",
       "78   150500              Nova Timboteua                           0.4   \n",
       "91   150560                   Peixe-Boi                           0.2   \n",
       "94   150570             Ponta de Pedras                           0.0   \n",
       "96   150590                Porto de Moz                           0.4   \n",
       "99   150611                   Quatipuru                           0.4   \n",
       "103  150619                   Rurópolis                           0.0   \n",
       "105  150630                  Salvaterra                           0.2   \n",
       "107  150640         Santa Cruz do Arari                           0.2   \n",
       "109  150655         Santa Luzia do Pará                           0.4   \n",
       "114  150690               Santarém Novo                           0.4   \n",
       "116  150710     São Caetano de Odivelas                           0.4   \n",
       "122  150746           São João da Ponta                           0.2   \n",
       "123  150747         São João de Pirabas                           0.2   \n",
       "126  150770  São Sebastião da Boa Vista                           0.0   \n",
       "129  150790                       Soure                           0.6   \n",
       "131  150796                  Terra Alta                           0.0   \n",
       "134  150803                  Tracuateua                           0.2   \n",
       "140  150820                       Vigia                           0.0   \n",
       "141  150830                       Viseu                           0.2   \n",
       "\n",
       "          IDH       PIB      GINI  \n",
       "8    0.648794  0.006700  0.734694  \n",
       "11   0.697051  0.005867  0.816327  \n",
       "12   0.695710  0.005827  0.734694  \n",
       "13   0.725201  0.007470  0.734694  \n",
       "14   0.631367  0.004351  0.755102  \n",
       "27   0.674263  0.008677  0.816327  \n",
       "29   0.634048  0.000000  0.714286  \n",
       "31   0.773458  0.010081  0.795918  \n",
       "36   0.607239  0.009919  0.693878  \n",
       "37   0.806971  0.005755  0.673469  \n",
       "42   0.672922  0.006927  0.795918  \n",
       "44   0.780161  0.006502  0.775510  \n",
       "56   0.749330  0.004875  0.755102  \n",
       "66   0.764075  0.008309  0.775510  \n",
       "67   0.816354  0.008391  0.714286  \n",
       "70   0.560322  0.003949  0.673469  \n",
       "75   0.733244  0.006567  0.755102  \n",
       "78   0.816354  0.007579  0.714286  \n",
       "91   0.778820  0.004432  0.734694  \n",
       "94   0.753351  0.006129  0.734694  \n",
       "96   0.674263  0.008531  0.775510  \n",
       "99   0.727882  0.006886  0.714286  \n",
       "103  0.734584  0.007201  0.734694  \n",
       "105  0.815013  0.007930  0.755102  \n",
       "107  0.746649  0.005932  0.714286  \n",
       "109  0.731903  0.009498  0.775510  \n",
       "114  0.786863  0.005579  0.673469  \n",
       "116  0.784182  0.009584  0.775510  \n",
       "122  0.781501  0.007667  0.714286  \n",
       "123  0.722520  0.006826  0.734694  \n",
       "126  0.747989  0.008189  0.693878  \n",
       "129  0.824397  0.008402  0.775510  \n",
       "131  0.810992  0.002435  0.775510  \n",
       "134  0.711796  0.007357  0.714286  \n",
       "140  0.827078  0.006443  0.734694  \n",
       "141  0.690349  0.009042  0.755102  "
      ]
     },
     "execution_count": 25,
     "metadata": {},
     "output_type": "execute_result"
    }
   ],
   "source": [
    "df_munic.query('PIB < 0.0101')"
   ]
  },
  {
   "cell_type": "code",
   "execution_count": 26,
   "metadata": {},
   "outputs": [
    {
     "data": {
      "image/png": "[encoded data removed]",
      "text/plain": [
       "<Figure size 640x480 with 1 Axes>"
      ]
     },
     "metadata": {},
     "output_type": "display_data"
    }
   ],
   "source": [
    "from pyDecision.algorithm import electre_tri_b\n",
    "\n",
    "classification = electre_tri_b(X, W , Q , P , V , B, cut_level = 0.6, verbose = False, rule = 'pc', graph = True)"
   ]
  },
  {
   "cell_type": "code",
   "execution_count": 27,
   "metadata": {},
   "outputs": [
    {
     "data": {
      "text/plain": [
       "73"
      ]
     },
     "execution_count": 27,
     "metadata": {},
     "output_type": "execute_result"
    }
   ],
   "source": [
    "classification.count(5)"
   ]
  },
  {
   "cell_type": "code",
   "execution_count": 28,
   "metadata": {},
   "outputs": [],
   "source": [
    "df_munic['CLASS'] = classification"
   ]
  },
  {
   "cell_type": "code",
   "execution_count": 29,
   "metadata": {},
   "outputs": [
    {
     "data": {
      "image/png": "[encoded data removed]",
      "text/plain": [
       "<Figure size 640x480 with 1 Axes>"
      ]
     },
     "metadata": {},
     "output_type": "display_data"
    }
   ],
   "source": [
    "df__ = df_munic.query('CLASS != 5')\n",
    "\n",
    "df_ = df__.iloc[:, 2:6]\n",
    "\n",
    "\n",
    "c = electre_tri_b(np.array(df_), W , Q , P , V , B, cut_level = 0.6, verbose = False, rule = 'pc', graph = True)\n"
   ]
  },
  {
   "cell_type": "code",
   "execution_count": 30,
   "metadata": {},
   "outputs": [
    {
     "data": {
      "text/plain": [
       "array([[0.8       , 0.84182306, 0.0143598 , 0.81632653],\n",
       "       [0.2       , 0.83378016, 0.02128627, 0.75510204],\n",
       "       [0.6       , 0.65549598, 0.01417263, 0.79591837],\n",
       "       [0.        , 0.86058981, 0.03720736, 1.        ],\n",
       "       [0.        , 0.89142091, 0.06649954, 0.81632653],\n",
       "       [0.6       , 0.96246649, 0.03528292, 0.7755102 ],\n",
       "       [0.2       , 0.69705094, 0.0058669 , 0.81632653],\n",
       "       [1.        , 0.88739946, 0.13287054, 0.83673469],\n",
       "       [0.6       , 1.        , 0.05752807, 0.87755102],\n",
       "       [0.4       , 0.89142091, 0.06866929, 0.75510204],\n",
       "       [0.4       , 0.78954424, 0.01714689, 0.81632653],\n",
       "       [0.2       , 0.80428954, 0.01310964, 0.7755102 ],\n",
       "       [0.4       , 0.82171582, 0.04565034, 0.71428571],\n",
       "       [0.6       , 0.67426273, 0.00867743, 0.81632653],\n",
       "       [0.4       , 0.73190349, 0.01057581, 0.79591837],\n",
       "       [0.2       , 0.77345845, 0.01008066, 0.79591837],\n",
       "       [0.4       , 0.90214477, 1.        , 0.73469388],\n",
       "       [0.8       , 0.87801609, 0.0375829 , 0.7755102 ],\n",
       "       [0.4       , 0.73458445, 0.02675447, 0.79591837],\n",
       "       [0.8       , 0.90214477, 0.05189269, 0.79591837],\n",
       "       [0.4       , 0.80697051, 0.00575467, 0.67346939],\n",
       "       [0.4       , 0.85790885, 0.02136521, 0.87755102],\n",
       "       [0.4       , 0.85254692, 0.16668308, 0.79591837],\n",
       "       [0.2       , 0.82439678, 0.02004098, 0.7755102 ],\n",
       "       [0.2       , 0.75067024, 0.02584105, 0.81632653],\n",
       "       [0.2       , 0.79758713, 0.01246506, 0.73469388],\n",
       "       [0.4       , 0.85790885, 0.05216596, 0.83673469],\n",
       "       [0.4       , 0.6769437 , 0.20589155, 0.69387755],\n",
       "       [0.4       , 0.83378016, 0.01011593, 0.7755102 ],\n",
       "       [0.6       , 0.79356568, 0.05437098, 0.79591837],\n",
       "       [0.6       , 0.80294906, 0.01517981, 0.7755102 ],\n",
       "       [0.2       , 0.8002681 , 0.01153544, 0.71428571],\n",
       "       [1.        , 0.89544236, 0.12511503, 0.83673469],\n",
       "       [0.2       , 0.81635389, 0.00839077, 0.71428571],\n",
       "       [0.6       , 0.90616622, 0.03308224, 0.73469388],\n",
       "       [0.2       , 0.77077748, 0.02391111, 0.85714286],\n",
       "       [0.2       , 0.78954424, 0.01877137, 0.79591837],\n",
       "       [0.4       , 0.81635389, 0.00757903, 0.71428571],\n",
       "       [0.2       , 0.90214477, 0.07671703, 0.69387755],\n",
       "       [0.4       , 0.71983914, 0.01961668, 0.81632653],\n",
       "       [0.6       , 0.79624665, 0.04714911, 0.7755102 ],\n",
       "       [0.        , 0.83512064, 0.08169103, 0.81632653],\n",
       "       [0.4       , 0.69034853, 0.03107251, 0.81632653],\n",
       "       [0.6       , 0.86461126, 0.07872065, 0.83673469],\n",
       "       [0.4       , 0.95844504, 0.37083704, 0.79591837],\n",
       "       [0.8       , 0.64745308, 0.02568452, 0.81632653],\n",
       "       [0.4       , 0.90080429, 0.05866679, 0.81632653],\n",
       "       [0.2       , 0.85522788, 0.0770183 , 0.71428571],\n",
       "       [0.2       , 0.80697051, 0.0169205 , 0.87755102],\n",
       "       [0.4       , 0.86729223, 0.02703307, 0.75510204],\n",
       "       [0.2       , 0.8150134 , 0.00793036, 0.75510204],\n",
       "       [0.2       , 0.84048257, 0.01126107, 0.69387755],\n",
       "       [0.2       , 0.80160858, 0.02230287, 0.71428571],\n",
       "       [0.2       , 0.80697051, 0.0311374 , 0.7755102 ],\n",
       "       [0.4       , 0.92627346, 0.04028608, 0.87755102],\n",
       "       [0.        , 0.79624665, 0.02027694, 0.81632653],\n",
       "       [0.2       , 0.71313673, 0.01911892, 0.79591837],\n",
       "       [0.4       , 0.79624665, 0.02075744, 0.85714286],\n",
       "       [0.        , 0.79758713, 0.05490045, 0.83673469],\n",
       "       [0.2       , 0.73726542, 0.01462634, 0.81632653],\n",
       "       [0.2       , 0.7922252 , 0.01868682, 0.79591837],\n",
       "       [0.2       , 0.79088472, 0.04406092, 0.7755102 ],\n",
       "       [0.6       , 0.82439678, 0.00840182, 0.7755102 ],\n",
       "       [0.6       , 0.78820375, 0.01247483, 0.7755102 ],\n",
       "       [0.2       , 0.78552279, 0.02052833, 0.79591837],\n",
       "       [0.2       , 0.88337802, 0.05468094, 0.75510204],\n",
       "       [1.        , 0.89276139, 0.14561709, 0.81632653],\n",
       "       [0.        , 0.80965147, 0.07575571, 0.7755102 ],\n",
       "       [0.2       , 0.78954424, 0.02827709, 0.7755102 ],\n",
       "       [0.8       , 0.79892761, 0.93559467, 0.7755102 ],\n",
       "       [0.2       , 0.86595174, 0.08289473, 0.79591837]])"
      ]
     },
     "execution_count": 30,
     "metadata": {},
     "output_type": "execute_result"
    }
   ],
   "source": [
    "np.array(df_)"
   ]
  },
  {
   "cell_type": "code",
   "execution_count": 31,
   "metadata": {},
   "outputs": [],
   "source": [
    "df_munic = df_munic.rename(index=lambda s: 'x' + str(s + 1))"
   ]
  },
  {
   "cell_type": "code",
   "execution_count": 32,
   "metadata": {},
   "outputs": [
    {
     "data": {
      "text/html": [
       "<div>\n",
       "<style scoped>\n",
       "    .dataframe tbody tr th:only-of-type {\n",
       "        vertical-align: middle;\n",
       "    }\n",
       "\n",
       "    .dataframe tbody tr th {\n",
       "        vertical-align: top;\n",
       "    }\n",
       "\n",
       "    .dataframe thead th {\n",
       "        text-align: right;\n",
       "    }\n",
       "</style>\n",
       "<table border=\"1\" class=\"dataframe\">\n",
       "  <thead>\n",
       "    <tr style=\"text-align: right;\">\n",
       "      <th></th>\n",
       "      <th>id</th>\n",
       "      <th>localidade</th>\n",
       "      <th>Rede_de_Protecao_assistencia</th>\n",
       "      <th>IDH</th>\n",
       "      <th>PIB</th>\n",
       "      <th>GINI</th>\n",
       "      <th>CLASS</th>\n",
       "    </tr>\n",
       "  </thead>\n",
       "  <tbody>\n",
       "    <tr>\n",
       "      <th>x10</th>\n",
       "      <td>150080</td>\n",
       "      <td>Ananindeua</td>\n",
       "      <td>0.6</td>\n",
       "      <td>0.962466</td>\n",
       "      <td>0.035283</td>\n",
       "      <td>0.775510</td>\n",
       "      <td>0</td>\n",
       "    </tr>\n",
       "    <tr>\n",
       "      <th>x18</th>\n",
       "      <td>150130</td>\n",
       "      <td>Barcarena</td>\n",
       "      <td>1.0</td>\n",
       "      <td>0.887399</td>\n",
       "      <td>0.132871</td>\n",
       "      <td>0.836735</td>\n",
       "      <td>0</td>\n",
       "    </tr>\n",
       "    <tr>\n",
       "      <th>x19</th>\n",
       "      <td>150140</td>\n",
       "      <td>Belém</td>\n",
       "      <td>0.6</td>\n",
       "      <td>1.000000</td>\n",
       "      <td>0.057528</td>\n",
       "      <td>0.877551</td>\n",
       "      <td>0</td>\n",
       "    </tr>\n",
       "    <tr>\n",
       "      <th>x66</th>\n",
       "      <td>150420</td>\n",
       "      <td>Marabá</td>\n",
       "      <td>1.0</td>\n",
       "      <td>0.895442</td>\n",
       "      <td>0.125115</td>\n",
       "      <td>0.836735</td>\n",
       "      <td>0</td>\n",
       "    </tr>\n",
       "    <tr>\n",
       "      <th>x69</th>\n",
       "      <td>150442</td>\n",
       "      <td>Marituba</td>\n",
       "      <td>0.6</td>\n",
       "      <td>0.906166</td>\n",
       "      <td>0.033082</td>\n",
       "      <td>0.734694</td>\n",
       "      <td>0</td>\n",
       "    </tr>\n",
       "    <tr>\n",
       "      <th>x90</th>\n",
       "      <td>150553</td>\n",
       "      <td>Parauapebas</td>\n",
       "      <td>0.4</td>\n",
       "      <td>0.958445</td>\n",
       "      <td>0.370837</td>\n",
       "      <td>0.795918</td>\n",
       "      <td>0</td>\n",
       "    </tr>\n",
       "    <tr>\n",
       "      <th>x114</th>\n",
       "      <td>150680</td>\n",
       "      <td>Santarém</td>\n",
       "      <td>0.4</td>\n",
       "      <td>0.926273</td>\n",
       "      <td>0.040286</td>\n",
       "      <td>0.877551</td>\n",
       "      <td>0</td>\n",
       "    </tr>\n",
       "    <tr>\n",
       "      <th>x138</th>\n",
       "      <td>150810</td>\n",
       "      <td>Tucuruí</td>\n",
       "      <td>1.0</td>\n",
       "      <td>0.892761</td>\n",
       "      <td>0.145617</td>\n",
       "      <td>0.816327</td>\n",
       "      <td>0</td>\n",
       "    </tr>\n",
       "    <tr>\n",
       "      <th>x143</th>\n",
       "      <td>150835</td>\n",
       "      <td>Vitória do Xingu</td>\n",
       "      <td>0.8</td>\n",
       "      <td>0.798928</td>\n",
       "      <td>0.935595</td>\n",
       "      <td>0.775510</td>\n",
       "      <td>0</td>\n",
       "    </tr>\n",
       "  </tbody>\n",
       "</table>\n",
       "</div>"
      ],
      "text/plain": [
       "          id        localidade  Rede_de_Protecao_assistencia       IDH  \\\n",
       "x10   150080        Ananindeua                           0.6  0.962466   \n",
       "x18   150130         Barcarena                           1.0  0.887399   \n",
       "x19   150140             Belém                           0.6  1.000000   \n",
       "x66   150420            Marabá                           1.0  0.895442   \n",
       "x69   150442          Marituba                           0.6  0.906166   \n",
       "x90   150553       Parauapebas                           0.4  0.958445   \n",
       "x114  150680          Santarém                           0.4  0.926273   \n",
       "x138  150810           Tucuruí                           1.0  0.892761   \n",
       "x143  150835  Vitória do Xingu                           0.8  0.798928   \n",
       "\n",
       "           PIB      GINI  CLASS  \n",
       "x10   0.035283  0.775510      0  \n",
       "x18   0.132871  0.836735      0  \n",
       "x19   0.057528  0.877551      0  \n",
       "x66   0.125115  0.836735      0  \n",
       "x69   0.033082  0.734694      0  \n",
       "x90   0.370837  0.795918      0  \n",
       "x114  0.040286  0.877551      0  \n",
       "x138  0.145617  0.816327      0  \n",
       "x143  0.935595  0.775510      0  "
      ]
     },
     "execution_count": 32,
     "metadata": {},
     "output_type": "execute_result"
    }
   ],
   "source": [
    "df_munic.query('CLASS == 0')"
   ]
  }
 ],
 "metadata": {
  "kernelspec": {
   "display_name": "Python 3",
   "language": "python",
   "name": "python3"
  },
  "language_info": {
   "codemirror_mode": {
    "name": "ipython",
    "version": 3
   },
   "file_extension": ".py",
   "mimetype": "text/x-python",
   "name": "python",
   "nbconvert_exporter": "python",
   "pygments_lexer": "ipython3",
   "version": "3.11.1"
  },
  "orig_nbformat": 4,
  "vscode": {
   "interpreter": {
    "hash": "f286dd25d526d1cfdf31e21d2e1bd92c1c5818e3d756afc4a5991f4c53b50bc8"
   }
  }
 },
 "nbformat": 4,
 "nbformat_minor": 2
}
