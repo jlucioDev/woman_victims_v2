{
 "cells": [
  {
   "cell_type": "code",
   "execution_count": null,
   "metadata": {},
   "outputs": [],
   "source": [
    "import pandas as pd\n",
    "import requests as rq\n",
    "\n",
    "url = 'https://servicodados.ibge.gov.br/api/v1/localidades/estados/pa/municipios'\n",
    "   \n",
    "res = rq.request(\"GET\", url)\n",
    "\n",
    "#Creates a data frame with the Municipalities column.\n",
    "if res.status_code == 200:\n",
    "    df_munic = pd.DataFrame({'id': [], 'localidade': []})\n",
    "    \n",
    "    for id, munic in enumerate(res.json()):\n",
    "        df_munic.loc[id] = [str(munic['id'])[:6], munic['nome']]\n"
   ]
  },
  {
   "cell_type": "code",
   "execution_count": null,
   "metadata": {},
   "outputs": [],
   "source": [
    "indicators = ['90201','90335','90358','90626','90640']\n",
    "\n",
    "url = \"https://servicodados.ibge.gov.br/api/v1/pesquisas/1/periodos/2019/indicadores/\"\n",
    "\n",
    "# Adding indicators to the end of the url\n",
    "for i, ind in enumerate(indicators):\n",
    "    if i != (len(indicators)-1):\n",
    "        url += ind + '|'\n",
    "    else:\n",
    "        url += ind + '/'\n",
    "        \n",
    "# Function to Formatting final url\n",
    "def urlResultadosPorMunicipos(url, df):\n",
    "    url += 'resultados/'    \n",
    "\n",
    "    for i, row in df_munic.iterrows():\n",
    "        if i != (len(df)-1):\n",
    "            url += row.id + '|'\n",
    "        else:\n",
    "            url += row.id + '/'\n",
    "    \n",
    "    return url\n",
    "\n",
    "\n",
    "url = urlResultadosPorMunicipos(url, df_munic)\n",
    "\n",
    "# return json results\n",
    "res = rq.request(\"GET\", url)\n"
   ]
  },
  {
   "cell_type": "code",
   "execution_count": null,
   "metadata": {},
   "outputs": [],
   "source": [
    "if res.status_code == 200:\n",
    "    \n",
    "    #Scrolls through the json and inserts the data into the main dataframe for each selected indicator.\n",
    "    for indicador in res.json():\n",
    "        df_temp = pd.DataFrame(indicador['res'])\n",
    "        df_temp = df_temp[['localidade', 'res']]\n",
    "        df_temp.rename(columns = {'localidade':'id', 'res': indicador['id']}, inplace = True)\n",
    "        \n",
    "        #It replaces the words \"Yes\" and \"No\" with binary information 1 and 0.\n",
    "        df_temp[indicador['id']] = df_temp[indicador['id']].map(lambda x: 1 if x['2019']  == 'Sim' else 0)\n",
    "        df_munic = pd.merge(df_munic, df_temp, on=\"id\")"
   ]
  },
  {
   "cell_type": "code",
   "execution_count": null,
   "metadata": {},
   "outputs": [],
   "source": [
    "df_munic['Rede_de_Protecao_assistencia'] = df_munic[90201] + df_munic[90335] + df_munic[90358] + df_munic[90626] + df_munic[90640]\n",
    "df_munic = df_munic[['id', 'localidade', 'Rede_de_Protecao_assistencia']]"
   ]
  },
  {
   "cell_type": "code",
   "execution_count": null,
   "metadata": {},
   "outputs": [],
   "source": [
    "url = \"https://servicodados.ibge.gov.br/api/v1/pesquisas/37/periodos/2010/indicadores/30255/\"\n",
    "\n",
    "url = urlResultadosPorMunicipos(url, df_munic)\n",
    "        \n",
    "res = rq.request(\"GET\", url)\n",
    "\n",
    "# correction of missing values\n",
    "x = res.json()\n",
    "x[0]['res'][73]['res']['2010'] = '0'\n",
    "x\n",
    "\n",
    "df_temp = pd.json_normalize(x[0]['res'])\n",
    "df_temp.rename(columns={'localidade': 'id', 'res.2010': 'IDH'}, inplace=True)\n",
    "df_temp = df_temp[['id', 'IDH']]\n",
    "df_munic = pd.merge(df_munic, df_temp, on='id')"
   ]
  },
  {
   "cell_type": "code",
   "execution_count": null,
   "metadata": {},
   "outputs": [],
   "source": [
    "url = \"https://servicodados.ibge.gov.br/api/v1/pesquisas/38/periodos/2019/indicadores/47001/\"\n",
    "\n",
    "url = urlResultadosPorMunicipos(url, df_munic)   \n",
    "res = rq.request(\"GET\", url)\n",
    "df_temp = pd.json_normalize(res.json()[0]['res'])\n",
    "df_temp.rename(columns={'localidade': 'id', 'res.2019': 'PIB'}, inplace=True)\n",
    "df_temp = df_temp[['id', 'PIB']]\n",
    "df_munic = pd.merge(df_munic, df_temp, on='id')"
   ]
  },
  {
   "cell_type": "code",
   "execution_count": null,
   "metadata": {},
   "outputs": [],
   "source": [
    "url = \"https://servicodados.ibge.gov.br/api/v1/pesquisas/36/periodos/2003/indicadores/30252/\"\n",
    "\n",
    "url = urlResultadosPorMunicipos(url, df_munic)\n",
    "        \n",
    "res = rq.request(\"GET\", url)\n",
    "# correction of missing values\n",
    "x = res.json()\n",
    "x[0]['res'].append({'localidade': '150475', 'res': {'2003': '0.00'}, 'notas': {'2003': None}})\n",
    "\n",
    "df_temp = pd.json_normalize(x[0]['res'])\n",
    "df_temp.rename(columns={'localidade': 'id', 'res.2003': 'GINI'}, inplace=True)\n",
    "df_temp = df_temp[['id', 'GINI']]\n",
    "df_munic = pd.merge(df_munic, df_temp, on='id', how='left')"
   ]
  },
  {
   "cell_type": "code",
   "execution_count": null,
   "metadata": {},
   "outputs": [],
   "source": [
    "df_munic['Rede_de_Protecao_assistencia'] = pd.to_numeric(df_munic['Rede_de_Protecao_assistencia'])\n",
    "df_munic['IDH'] = pd.to_numeric(df_munic['IDH'])\n",
    "df_munic['PIB'] = pd.to_numeric(df_munic['PIB'])\n",
    "df_munic['GINI'] = pd.to_numeric(df_munic['GINI'])"
   ]
  },
  {
   "cell_type": "code",
   "execution_count": null,
   "metadata": {},
   "outputs": [],
   "source": [
    "#cols = df_munic[['Rede_de_Protecao_assistencia', 'IDH', 'PIB', 'GINI']]\n",
    "\n",
    "def normalize(df_columns):\n",
    "    for i in df_columns:\n",
    "        mx = df_munic[[i]].max()[0]\n",
    "        mn = df_munic[[i]].min()[0]\n",
    "        df_munic[[i]] = (df_munic[[i]] - mn) / (mx - mn)\n",
    "\n",
    "def deNormalize(df_columns, dmin, dmax):\n",
    "    for i in df_columns:\n",
    "        df_munic[[i]] = df_munic[[i]] * (dmax - dmin) + dmin\n",
    "\n",
    "#normalize(cols)\n",
    "normalize(df_munic.iloc[:,2:].columns)"
   ]
  },
  {
   "cell_type": "code",
   "execution_count": null,
   "metadata": {},
   "outputs": [],
   "source": [
    "df_munic.iloc[:,2:].describe()"
   ]
  },
  {
   "cell_type": "code",
   "execution_count": null,
   "metadata": {},
   "outputs": [],
   "source": [
    "import numpy as np\n",
    "import seaborn as sns\n",
    "import matplotlib.pyplot as plt\n",
    "\n",
    "def create_boxplot(dataset):\n",
    "\n",
    "    Q3 = np.quantile(dataset, 0.75)\n",
    "    Q1 = np.quantile(dataset, 0.25)\n",
    "    MEDIAN = np.quantile(dataset, 0.50)\n",
    "    IQR = Q3 - Q1\n",
    "\n",
    "    lower_range = Q1 - 0.15 * IQR\n",
    "    upper_range = Q3 + 0.15 * IQR\n",
    "\n",
    "    while lower_range < 0:\n",
    "        dst = dataset[dataset[dataset.columns[0]] > Q1]\n",
    "        \n",
    "        Q3 = np.quantile(dst, 0.75)\n",
    "        Q1 = np.quantile(dst, 0.25)\n",
    "        MEDIAN = np.quantile(dst, 0.50)\n",
    "        IQR = Q3 - Q1\n",
    "    \n",
    "        lower_range = Q1 - 0.15 * IQR\n",
    "        upper_range = Q3 + 0.15 * IQR\n",
    "\n",
    "        dataset = dst\n",
    "        \n",
    "    print(f\"Q3 = {Q3}\")\n",
    "    print(f\"Q1 = {Q1}\")\n",
    "    print(f\"IQR = {IQR}\")\n",
    "    print(f\"Median = {MEDIAN}\")\n",
    "    print(f\"Lower_Range = {lower_range}\")\n",
    "    print(f\"Upper_Range = {upper_range}\")\n",
    "\n",
    "    ax = sns.boxplot(dataset, orient=\"h\")\n",
    "    plt.xlim(0, 1)\n",
    "    plt.show()\n",
    "    \n",
    "\n",
    "\n",
    "def print_limits(dataset) -> list:\n",
    "\n",
    "    res = np.zeros((5, 4))\n",
    "\n",
    "    #boxplot create\n",
    "    _, bp = pd.DataFrame.boxplot(dataset, return_type='both')\n",
    "    caps = [cap.get_ydata() for cap in bp[\"caps\"]] # limites inferior e superior\n",
    "    outliers = [flier.get_ydata() for flier in bp[\"fliers\"]]  # Desconsiderar\n",
    "    boxes = [box.get_ydata() for box in bp[\"boxes\"]] # Q1 e Q3\n",
    "    medians = [median.get_ydata() for median in bp[\"medians\"]] # Mediana\n",
    "    whiskers = [whiskers.get_ydata() for whiskers in bp[\"whiskers\"]] # Q1 Q3 LimSup LimInf\n",
    "    \n",
    "    cont = 0\n",
    "    for c in range(0, len(whiskers), 2):\n",
    "        lower_range = whiskers[c][1]\n",
    "\n",
    "        Q1 = whiskers[c][0]\n",
    "        M = medians[cont][0]\n",
    "        Q3 = whiskers[c+1][0]\n",
    "\n",
    "        upper_range = whiskers[c+1][1]\n",
    "\n",
    "        \n",
    "\n",
    "        res[0][cont] = lower_range\n",
    "        res[1][cont] = Q1\n",
    "        res[2][cont] = M\n",
    "        res[3][cont] = Q3\n",
    "        res[4][cont] = upper_range\n",
    "\n",
    "        cont += 1\n",
    "    \n",
    "    \n",
    "    return res.tolist()\n",
    "         \n",
    "\n",
    "print_limits(df_munic.iloc[:,2:])"
   ]
  },
  {
   "cell_type": "code",
   "execution_count": null,
   "metadata": {},
   "outputs": [],
   "source": []
  },
  {
   "cell_type": "code",
   "execution_count": null,
   "metadata": {},
   "outputs": [],
   "source": [
    "import seaborn as sns\n",
    "sns.histplot(df_munic.iloc[:,2:3], kde=True)\n"
   ]
  },
  {
   "cell_type": "code",
   "execution_count": null,
   "metadata": {},
   "outputs": [],
   "source": [
    "create_boxplot(df_munic.iloc[:,2:3])"
   ]
  },
  {
   "cell_type": "code",
   "execution_count": null,
   "metadata": {},
   "outputs": [],
   "source": [
    "sns.histplot(df_munic.iloc[:,3:4], kde=True)\n"
   ]
  },
  {
   "cell_type": "code",
   "execution_count": null,
   "metadata": {},
   "outputs": [],
   "source": [
    "create_boxplot(df_munic.iloc[:,3:4])\n"
   ]
  },
  {
   "cell_type": "code",
   "execution_count": null,
   "metadata": {},
   "outputs": [],
   "source": [
    "sns.histplot(df_munic.iloc[:,4:5], kde=True)\n"
   ]
  },
  {
   "cell_type": "code",
   "execution_count": null,
   "metadata": {},
   "outputs": [],
   "source": [
    "create_boxplot(df_munic.iloc[:,4:5])"
   ]
  },
  {
   "cell_type": "code",
   "execution_count": null,
   "metadata": {},
   "outputs": [],
   "source": [
    "sns.histplot(df_munic.iloc[:,5:6], kde=True)"
   ]
  },
  {
   "cell_type": "code",
   "execution_count": null,
   "metadata": {},
   "outputs": [],
   "source": [
    "create_boxplot(df_munic.iloc[:,5:6])"
   ]
  },
  {
   "cell_type": "code",
   "execution_count": null,
   "metadata": {},
   "outputs": [],
   "source": [
    "     #IP       #IDH      #PIB      #GINI\n",
    "Q = [0.05,      0.05,       0.05,      0.05]\n",
    "P = [0.08,      0.08,       0.08,      0.08]\n",
    "V = [2.0,      2.0,       2.0,      2.0]\n",
    "W = [0.5,      0.5,       0.5,      0.5]\n",
    "\n",
    "B = print_limits(df_munic.iloc[:,2:6])\n",
    "\n",
    "np.array(B)"
   ]
  },
  {
   "cell_type": "code",
   "execution_count": null,
   "metadata": {},
   "outputs": [],
   "source": [
    "from pyDecision.algorithm import electre_tri_b\n",
    "\n",
    "classification = electre_tri_b(df_munic.iloc[:,2:6], W , Q , P , V , B, cut_level = 0.6, verbose = False, rule = 'pc', graph = True)"
   ]
  },
  {
   "cell_type": "code",
   "execution_count": null,
   "metadata": {},
   "outputs": [],
   "source": [
    "classification.count(5)"
   ]
  },
  {
   "cell_type": "code",
   "execution_count": null,
   "metadata": {},
   "outputs": [],
   "source": [
    "df_munic['CLASS'] = classification"
   ]
  },
  {
   "cell_type": "code",
   "execution_count": null,
   "metadata": {},
   "outputs": [],
   "source": [
    "df__ = df_munic.query('CLASS != 5')\n",
    "\n",
    "df_ = df__.iloc[:, 2:6]\n",
    "\n",
    "\n",
    "c = electre_tri_b(np.array(df_), W , Q , P , V , B, cut_level = 0.6, verbose = False, rule = 'pc', graph = True)\n"
   ]
  },
  {
   "cell_type": "code",
   "execution_count": null,
   "metadata": {},
   "outputs": [],
   "source": [
    "np.array(df_)"
   ]
  },
  {
   "cell_type": "code",
   "execution_count": null,
   "metadata": {},
   "outputs": [],
   "source": [
    "df_munic = df_munic.rename(index=lambda s: 'x' + str(s + 1))"
   ]
  },
  {
   "cell_type": "code",
   "execution_count": null,
   "metadata": {},
   "outputs": [],
   "source": [
    "df_munic.query('CLASS == 0')"
   ]
  }
 ],
 "metadata": {
  "kernelspec": {
   "display_name": "Python 3",
   "language": "python",
   "name": "python3"
  },
  "language_info": {
   "codemirror_mode": {
    "name": "ipython",
    "version": 3
   },
   "file_extension": ".py",
   "mimetype": "text/x-python",
   "name": "python",
   "nbconvert_exporter": "python",
   "pygments_lexer": "ipython3",
   "version": "3.11.1"
  },
  "orig_nbformat": 4,
  "vscode": {
   "interpreter": {
    "hash": "f286dd25d526d1cfdf31e21d2e1bd92c1c5818e3d756afc4a5991f4c53b50bc8"
   }
  }
 },
 "nbformat": 4,
 "nbformat_minor": 2
}
