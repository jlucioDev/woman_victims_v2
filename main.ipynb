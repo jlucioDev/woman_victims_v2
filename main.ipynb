{
 "cells": [
  {
   "cell_type": "code",
   "execution_count": 1,
   "metadata": {},
   "outputs": [],
   "source": [
    "import pandas as pd\n",
    "import requests as rq\n",
    "\n",
    "url = 'https://servicodados.ibge.gov.br/api/v1/localidades/estados/pa/municipios'\n",
    "   \n",
    "res = rq.request(\"GET\", url)\n",
    "\n",
    "#Creates a data frame with the Municipalities column.\n",
    "if res.status_code == 200:\n",
    "    df_munic = pd.DataFrame({'id': [], 'localidade': []})\n",
    "    \n",
    "    for id, munic in enumerate(res.json()):\n",
    "        df_munic.loc[id] = [str(munic['id'])[:6], munic['nome']]\n"
   ]
  },
  {
   "cell_type": "code",
   "execution_count": 2,
   "metadata": {},
   "outputs": [],
   "source": [
    "indicators = ['90201','90335','90358','90626','90640']\n",
    "\n",
    "url = \"https://servicodados.ibge.gov.br/api/v1/pesquisas/1/periodos/2019/indicadores/\"\n",
    "\n",
    "# Adding indicators to the end of the url\n",
    "for i, ind in enumerate(indicators):\n",
    "    if i != (len(indicators)-1):\n",
    "        url += ind + '|'\n",
    "    else:\n",
    "        url += ind + '/'\n",
    "        \n",
    "# Function to Formatting final url\n",
    "def urlResultadosPorMunicipos(url, df):\n",
    "    url += 'resultados/'    \n",
    "\n",
    "    for i, row in df_munic.iterrows():\n",
    "        if i != (len(df)-1):\n",
    "            url += row.id + '|'\n",
    "        else:\n",
    "            url += row.id + '/'\n",
    "    \n",
    "    return url\n",
    "\n",
    "\n",
    "url = urlResultadosPorMunicipos(url, df_munic)\n",
    "\n",
    "# return json results\n",
    "res = rq.request(\"GET\", url)\n"
   ]
  },
  {
   "cell_type": "code",
   "execution_count": 3,
   "metadata": {},
   "outputs": [],
   "source": [
    "if res.status_code == 200:\n",
    "    \n",
    "    #Scrolls through the json and inserts the data into the main dataframe for each selected indicator.\n",
    "    for indicador in res.json():\n",
    "        df_temp = pd.DataFrame(indicador['res'])\n",
    "        df_temp = df_temp[['localidade', 'res']]\n",
    "        df_temp.rename(columns = {'localidade':'id', 'res': indicador['id']}, inplace = True)\n",
    "        \n",
    "        #It replaces the words \"Yes\" and \"No\" with binary information 1 and 0.\n",
    "        df_temp[indicador['id']] = df_temp[indicador['id']].map(lambda x: 1 if x['2019']  == 'Sim' else 0)\n",
    "        df_munic = pd.merge(df_munic, df_temp, on=\"id\")"
   ]
  },
  {
   "cell_type": "code",
   "execution_count": 4,
   "metadata": {},
   "outputs": [],
   "source": [
    "df_munic['Rede_de_Protecao_assistencia'] = df_munic[90201] + df_munic[90335] + df_munic[90358] + df_munic[90626] + df_munic[90640]\n",
    "df_munic = df_munic[['id', 'localidade', 'Rede_de_Protecao_assistencia']]"
   ]
  },
  {
   "cell_type": "code",
   "execution_count": 5,
   "metadata": {},
   "outputs": [],
   "source": [
    "url = \"https://servicodados.ibge.gov.br/api/v1/pesquisas/37/periodos/2010/indicadores/30255/\"\n",
    "\n",
    "url = urlResultadosPorMunicipos(url, df_munic)\n",
    "        \n",
    "res = rq.request(\"GET\", url)\n",
    "\n",
    "# correction of missing values\n",
    "x = res.json()\n",
    "x[0]['res'][73]['res']['2010'] = '0'\n",
    "x\n",
    "\n",
    "df_temp = pd.json_normalize(x[0]['res'])\n",
    "df_temp.rename(columns={'localidade': 'id', 'res.2010': 'IDH'}, inplace=True)\n",
    "df_temp = df_temp[['id', 'IDH']]\n",
    "df_munic = pd.merge(df_munic, df_temp, on='id')"
   ]
  },
  {
   "cell_type": "code",
   "execution_count": 6,
   "metadata": {},
   "outputs": [],
   "source": [
    "url = \"https://servicodados.ibge.gov.br/api/v1/pesquisas/38/periodos/2019/indicadores/47001/\"\n",
    "\n",
    "url = urlResultadosPorMunicipos(url, df_munic)   \n",
    "res = rq.request(\"GET\", url)\n",
    "df_temp = pd.json_normalize(res.json()[0]['res'])\n",
    "df_temp.rename(columns={'localidade': 'id', 'res.2019': 'PIB'}, inplace=True)\n",
    "df_temp = df_temp[['id', 'PIB']]\n",
    "df_munic = pd.merge(df_munic, df_temp, on='id')"
   ]
  },
  {
   "cell_type": "code",
   "execution_count": 7,
   "metadata": {},
   "outputs": [],
   "source": [
    "url = \"https://servicodados.ibge.gov.br/api/v1/pesquisas/36/periodos/2003/indicadores/30252/\"\n",
    "\n",
    "url = urlResultadosPorMunicipos(url, df_munic)\n",
    "        \n",
    "res = rq.request(\"GET\", url)\n",
    "# correction of missing values\n",
    "x = res.json()\n",
    "x[0]['res'].append({'localidade': '150475', 'res': {'2003': '0.00'}, 'notas': {'2003': None}})\n",
    "\n",
    "df_temp = pd.json_normalize(x[0]['res'])\n",
    "df_temp.rename(columns={'localidade': 'id', 'res.2003': 'GINI'}, inplace=True)\n",
    "df_temp = df_temp[['id', 'GINI']]\n",
    "df_munic = pd.merge(df_munic, df_temp, on='id', how='left')"
   ]
  },
  {
   "cell_type": "code",
   "execution_count": 8,
   "metadata": {},
   "outputs": [],
   "source": [
    "df_munic['Rede_de_Protecao_assistencia'] = pd.to_numeric(df_munic['Rede_de_Protecao_assistencia'])\n",
    "df_munic['IDH'] = pd.to_numeric(df_munic['IDH'])\n",
    "df_munic['PIB'] = pd.to_numeric(df_munic['PIB'])\n",
    "df_munic['GINI'] = pd.to_numeric(df_munic['GINI'])"
   ]
  },
  {
   "cell_type": "code",
   "execution_count": 9,
   "metadata": {},
   "outputs": [],
   "source": [
    "#cols = df_munic[['Rede_de_Protecao_assistencia', 'IDH', 'PIB', 'GINI']]\n",
    "\n",
    "def normalize(df_columns):\n",
    "    for i in df_columns:\n",
    "        mx = df_munic[[i]].max()[0]\n",
    "        mn = df_munic[[i]].min()[0]\n",
    "        df_munic[[i]] = (df_munic[[i]] - mn) / (mx - mn)\n",
    "\n",
    "def deNormalize(df_columns, dmin, dmax):\n",
    "    for i in df_columns:\n",
    "        df_munic[[i]] = df_munic[[i]] * (dmax - dmin) + dmin\n",
    "\n",
    "#normalize(cols)\n",
    "normalize(df_munic.iloc[:,2:].columns)"
   ]
  },
  {
   "cell_type": "code",
   "execution_count": 10,
   "metadata": {},
   "outputs": [
    {
     "data": {
      "text/html": [
       "<div>\n",
       "<style scoped>\n",
       "    .dataframe tbody tr th:only-of-type {\n",
       "        vertical-align: middle;\n",
       "    }\n",
       "\n",
       "    .dataframe tbody tr th {\n",
       "        vertical-align: top;\n",
       "    }\n",
       "\n",
       "    .dataframe thead th {\n",
       "        text-align: right;\n",
       "    }\n",
       "</style>\n",
       "<table border=\"1\" class=\"dataframe\">\n",
       "  <thead>\n",
       "    <tr style=\"text-align: right;\">\n",
       "      <th></th>\n",
       "      <th>Rede_de_Protecao_assistencia</th>\n",
       "      <th>IDH</th>\n",
       "      <th>PIB</th>\n",
       "      <th>GINI</th>\n",
       "    </tr>\n",
       "  </thead>\n",
       "  <tbody>\n",
       "    <tr>\n",
       "      <th>count</th>\n",
       "      <td>144.000000</td>\n",
       "      <td>144.000000</td>\n",
       "      <td>144.000000</td>\n",
       "      <td>144.000000</td>\n",
       "    </tr>\n",
       "    <tr>\n",
       "      <th>mean</th>\n",
       "      <td>0.277778</td>\n",
       "      <td>0.774138</td>\n",
       "      <td>0.044827</td>\n",
       "      <td>0.761196</td>\n",
       "    </tr>\n",
       "    <tr>\n",
       "      <th>std</th>\n",
       "      <td>0.236656</td>\n",
       "      <td>0.099055</td>\n",
       "      <td>0.117906</td>\n",
       "      <td>0.081778</td>\n",
       "    </tr>\n",
       "    <tr>\n",
       "      <th>min</th>\n",
       "      <td>0.000000</td>\n",
       "      <td>0.000000</td>\n",
       "      <td>0.000000</td>\n",
       "      <td>0.000000</td>\n",
       "    </tr>\n",
       "    <tr>\n",
       "      <th>25%</th>\n",
       "      <td>0.150000</td>\n",
       "      <td>0.732909</td>\n",
       "      <td>0.010107</td>\n",
       "      <td>0.734694</td>\n",
       "    </tr>\n",
       "    <tr>\n",
       "      <th>50%</th>\n",
       "      <td>0.200000</td>\n",
       "      <td>0.780831</td>\n",
       "      <td>0.018945</td>\n",
       "      <td>0.775510</td>\n",
       "    </tr>\n",
       "    <tr>\n",
       "      <th>75%</th>\n",
       "      <td>0.400000</td>\n",
       "      <td>0.822386</td>\n",
       "      <td>0.037740</td>\n",
       "      <td>0.795918</td>\n",
       "    </tr>\n",
       "    <tr>\n",
       "      <th>max</th>\n",
       "      <td>1.000000</td>\n",
       "      <td>1.000000</td>\n",
       "      <td>1.000000</td>\n",
       "      <td>1.000000</td>\n",
       "    </tr>\n",
       "  </tbody>\n",
       "</table>\n",
       "</div>"
      ],
      "text/plain": [
       "       Rede_de_Protecao_assistencia         IDH         PIB        GINI\n",
       "count                    144.000000  144.000000  144.000000  144.000000\n",
       "mean                       0.277778    0.774138    0.044827    0.761196\n",
       "std                        0.236656    0.099055    0.117906    0.081778\n",
       "min                        0.000000    0.000000    0.000000    0.000000\n",
       "25%                        0.150000    0.732909    0.010107    0.734694\n",
       "50%                        0.200000    0.780831    0.018945    0.775510\n",
       "75%                        0.400000    0.822386    0.037740    0.795918\n",
       "max                        1.000000    1.000000    1.000000    1.000000"
      ]
     },
     "execution_count": 10,
     "metadata": {},
     "output_type": "execute_result"
    }
   ],
   "source": [
    "df_munic.iloc[:,2:].describe()"
   ]
  },
  {
   "cell_type": "code",
   "execution_count": 11,
   "metadata": {},
   "outputs": [
    {
     "data": {
      "text/plain": [
       "[[0.0, 0.6072386058981234, 0.0, 0.6734693877551021],\n",
       " [0.15000000000000002,\n",
       "  0.7329088471849866,\n",
       "  0.010107113043029458,\n",
       "  0.7346938775510204],\n",
       " [0.2, 0.7808310991957104, 0.01894514113870411, 0.7755102040816326],\n",
       " [0.4, 0.8223860589812333, 0.03774022954802127, 0.7959183673469388],\n",
       " [0.6, 0.9262734584450402, 0.07872065194724878, 0.8775510204081632]]"
      ]
     },
     "execution_count": 11,
     "metadata": {},
     "output_type": "execute_result"
    },
    {
     "data": {
      "image/png": "[encoded data removed]",
      "text/plain": [
       "<Figure size 640x480 with 1 Axes>"
      ]
     },
     "metadata": {},
     "output_type": "display_data"
    }
   ],
   "source": [
    "import numpy as np\n",
    "import seaborn as sns\n",
    "import matplotlib.pyplot as plt\n",
    "\n",
    "def create_boxplot(dataset):\n",
    "\n",
    "    Q3 = np.quantile(dataset, 0.75)\n",
    "    Q1 = np.quantile(dataset, 0.25)\n",
    "    MEDIAN = np.quantile(dataset, 0.50)\n",
    "    IQR = Q3 - Q1\n",
    "\n",
    "    lower_range = Q1 - 0.15 * IQR\n",
    "    upper_range = Q3 + 0.15 * IQR\n",
    "\n",
    "    while lower_range < 0:\n",
    "        dst = dataset[dataset[dataset.columns[0]] > Q1]\n",
    "        \n",
    "        Q3 = np.quantile(dst, 0.75)\n",
    "        Q1 = np.quantile(dst, 0.25)\n",
    "        MEDIAN = np.quantile(dst, 0.50)\n",
    "        IQR = Q3 - Q1\n",
    "    \n",
    "        lower_range = Q1 - 0.15 * IQR\n",
    "        upper_range = Q3 + 0.15 * IQR\n",
    "\n",
    "        dataset = dst\n",
    "        \n",
    "    print(f\"Q3 = {Q3}\")\n",
    "    print(f\"Q1 = {Q1}\")\n",
    "    print(f\"IQR = {IQR}\")\n",
    "    print(f\"Median = {MEDIAN}\")\n",
    "    print(f\"Lower_Range = {lower_range}\")\n",
    "    print(f\"Upper_Range = {upper_range}\")\n",
    "\n",
    "    ax = sns.boxplot(dataset, orient=\"h\")\n",
    "    plt.xlim(0, 1)\n",
    "    plt.show()\n",
    "    \n",
    "\n",
    "\n",
    "def print_limits(dataset) -> list:\n",
    "\n",
    "    res = np.zeros((5, 4))\n",
    "\n",
    "    #boxplot create\n",
    "    _, bp = pd.DataFrame.boxplot(dataset, return_type='both')\n",
    "    caps = [cap.get_ydata() for cap in bp[\"caps\"]] # limites inferior e superior\n",
    "    outliers = [flier.get_ydata() for flier in bp[\"fliers\"]]  # Desconsiderar\n",
    "    boxes = [box.get_ydata() for box in bp[\"boxes\"]] # Q1 e Q3\n",
    "    medians = [median.get_ydata() for median in bp[\"medians\"]] # Mediana\n",
    "    whiskers = [whiskers.get_ydata() for whiskers in bp[\"whiskers\"]] # Q1 Q3 LimSup LimInf\n",
    "    \n",
    "    cont = 0\n",
    "    for c in range(0, len(whiskers), 2):\n",
    "        lower_range = whiskers[c][1]\n",
    "\n",
    "        Q1 = whiskers[c][0]\n",
    "        M = medians[cont][0]\n",
    "        Q3 = whiskers[c+1][0]\n",
    "\n",
    "        upper_range = whiskers[c+1][1]\n",
    "\n",
    "        \n",
    "\n",
    "        res[0][cont] = lower_range\n",
    "        res[1][cont] = Q1\n",
    "        res[2][cont] = M\n",
    "        res[3][cont] = Q3\n",
    "        res[4][cont] = upper_range\n",
    "\n",
    "        cont += 1\n",
    "    \n",
    "    \n",
    "    return res.tolist()\n",
    "         \n",
    "\n",
    "print_limits(df_munic.iloc[:,2:])"
   ]
  },
  {
   "cell_type": "code",
   "execution_count": 12,
   "metadata": {},
   "outputs": [
    {
     "data": {
      "text/plain": [
       "<AxesSubplot: ylabel='Count'>"
      ]
     },
     "execution_count": 12,
     "metadata": {},
     "output_type": "execute_result"
    }
   ],
   "source": [
    "sns.histplot(df_munic.iloc[:,2:3], kde=True)\n"
   ]
  },
  {
   "cell_type": "code",
   "execution_count": 13,
   "metadata": {},
   "outputs": [
    {
     "name": "stdout",
     "output_type": "stream",
     "text": [
      "Q3 = 0.4\n",
      "Q1 = 0.15000000000000002\n",
      "IQR = 0.25\n",
      "Median = 0.2\n",
      "Lower_Range = 0.11250000000000002\n",
      "Upper_Range = 0.4375\n"
     ]
    },
    {
     "data": {
      "image/png": "[encoded data removed]",
      "text/plain": [
       "<Figure size 640x480 with 1 Axes>"
      ]
     },
     "metadata": {},
     "output_type": "display_data"
    }
   ],
   "source": [
    "create_boxplot(df_munic.iloc[:,2:3])"
   ]
  },
  {
   "cell_type": "code",
   "execution_count": 14,
   "metadata": {},
   "outputs": [
    {
     "data": {
      "text/plain": [
       "<AxesSubplot: ylabel='Count'>"
      ]
     },
     "execution_count": 14,
     "metadata": {},
     "output_type": "execute_result"
    }
   ],
   "source": [
    "sns.histplot(df_munic.iloc[:,3:4], kde=True)\n"
   ]
  },
  {
   "cell_type": "code",
   "execution_count": 15,
   "metadata": {},
   "outputs": [
    {
     "name": "stdout",
     "output_type": "stream",
     "text": [
      "Q3 = 0.8223860589812333\n",
      "Q1 = 0.7329088471849866\n",
      "IQR = 0.08947721179624668\n",
      "Median = 0.7808310991957104\n",
      "Lower_Range = 0.7194872654155496\n",
      "Upper_Range = 0.8358076407506703\n"
     ]
    },
    {
     "data": {
      "image/png": "[encoded data removed]",
      "text/plain": [
       "<Figure size 640x480 with 1 Axes>"
      ]
     },
     "metadata": {},
     "output_type": "display_data"
    }
   ],
   "source": [
    "create_boxplot(df_munic.iloc[:,3:4])\n"
   ]
  },
  {
   "cell_type": "code",
   "execution_count": 16,
   "metadata": {},
   "outputs": [
    {
     "data": {
      "text/plain": [
       "<AxesSubplot: ylabel='Count'>"
      ]
     },
     "execution_count": 16,
     "metadata": {},
     "output_type": "execute_result"
    }
   ],
   "source": [
    "sns.histplot(df_munic.iloc[:,4:5], kde=True)\n"
   ]
  },
  {
   "cell_type": "code",
   "execution_count": 17,
   "metadata": {},
   "outputs": [
    {
     "name": "stdout",
     "output_type": "stream",
     "text": [
      "Q3 = 0.03774022954802127\n",
      "Q1 = 0.010107113043029458\n",
      "IQR = 0.02763311650499181\n",
      "Median = 0.01894514113870411\n",
      "Lower_Range = 0.005962145567280686\n",
      "Upper_Range = 0.04188519702377004\n"
     ]
    },
    {
     "data": {
      "image/png": "[encoded data removed]",
      "text/plain": [
       "<Figure size 640x480 with 1 Axes>"
      ]
     },
     "metadata": {},
     "output_type": "display_data"
    }
   ],
   "source": [
    "create_boxplot(df_munic.iloc[:,4:5])"
   ]
  },
  {
   "cell_type": "code",
   "execution_count": 18,
   "metadata": {},
   "outputs": [
    {
     "data": {
      "text/plain": [
       "<AxesSubplot: ylabel='Count'>"
      ]
     },
     "execution_count": 18,
     "metadata": {},
     "output_type": "execute_result"
    }
   ],
   "source": [
    "sns.histplot(df_munic.iloc[:,5:6], kde=True)"
   ]
  },
  {
   "cell_type": "code",
   "execution_count": 19,
   "metadata": {},
   "outputs": [
    {
     "name": "stdout",
     "output_type": "stream",
     "text": [
      "Q3 = 0.7959183673469388\n",
      "Q1 = 0.7346938775510204\n",
      "IQR = 0.061224489795918324\n",
      "Median = 0.7755102040816326\n",
      "Lower_Range = 0.7255102040816327\n",
      "Upper_Range = 0.8051020408163265\n"
     ]
    },
    {
     "data": {
      "image/png": "[encoded data removed]",
      "text/plain": [
       "<Figure size 640x480 with 1 Axes>"
      ]
     },
     "metadata": {},
     "output_type": "display_data"
    }
   ],
   "source": [
    "create_boxplot(df_munic.iloc[:,5:6])"
   ]
  },
  {
   "cell_type": "code",
   "execution_count": 20,
   "metadata": {},
   "outputs": [
    {
     "data": {
      "text/plain": [
       "array([[0.        , 0.60723861, 0.        , 0.67346939],\n",
       "       [0.15      , 0.73290885, 0.01010711, 0.73469388],\n",
       "       [0.2       , 0.7808311 , 0.01894514, 0.7755102 ],\n",
       "       [0.4       , 0.82238606, 0.03774023, 0.79591837],\n",
       "       [0.6       , 0.92627346, 0.07872065, 0.87755102]])"
      ]
     },
     "execution_count": 20,
     "metadata": {},
     "output_type": "execute_result"
    }
   ],
   "source": [
    "     #IP       #IDH      #PIB      #GINI\n",
    "Q = [0.05,      0.05,       0.05,      0.05]\n",
    "P = [0.08,      0.08,       0.08,      0.08]\n",
    "V = [2.0,      2.0,       2.0,      2.0]\n",
    "W = [0.5,      0.5,       0.5,      0.5]\n",
    "\n",
    "B = print_limits(df_munic.iloc[:,2:6])\n",
    "\n",
    "np.array(B)"
   ]
  },
  {
   "cell_type": "code",
   "execution_count": 21,
   "metadata": {},
   "outputs": [],
   "source": [
    "T = df_munic.iloc[:, 2:].values"
   ]
  },
  {
   "cell_type": "code",
   "execution_count": 22,
   "metadata": {},
   "outputs": [
    {
     "data": {
      "image/png": "[encoded data removed]",
      "text/plain": [
       "<Figure size 640x480 with 1 Axes>"
      ]
     },
     "metadata": {},
     "output_type": "display_data"
    }
   ],
   "source": [
    "from pyDecision.algorithm import electre_tri_b\n",
    "\n",
    "classification = electre_tri_b(T, W , Q , P , V , B, cut_level = 0.7, verbose = False, rule = 'oc', graph = True)"
   ]
  },
  {
   "cell_type": "code",
   "execution_count": 23,
   "metadata": {},
   "outputs": [
    {
     "data": {
      "text/plain": [
       "11"
      ]
     },
     "execution_count": 23,
     "metadata": {},
     "output_type": "execute_result"
    }
   ],
   "source": [
    "classification.count(0)"
   ]
  },
  {
   "cell_type": "code",
   "execution_count": 24,
   "metadata": {},
   "outputs": [],
   "source": [
    "df_munic['CLASS'] = classification"
   ]
  },
  {
   "cell_type": "code",
   "execution_count": 25,
   "metadata": {},
   "outputs": [
    {
     "data": {
      "image/png": "[encoded data removed]",
      "text/plain": [
       "<Figure size 640x480 with 1 Axes>"
      ]
     },
     "metadata": {},
     "output_type": "display_data"
    }
   ],
   "source": [
    "df__ = df_munic.query('CLASS != 5')\n",
    "\n",
    "df_ = df__.iloc[:, 2:6]\n",
    "\n",
    "\n",
    "c = electre_tri_b(np.array(df_), W , Q , P , V , B, cut_level = 0.7, verbose = False, rule = 'oc', graph = True)\n"
   ]
  },
  {
   "cell_type": "code",
   "execution_count": 26,
   "metadata": {},
   "outputs": [],
   "source": [
    "df_munic = df_munic.rename(index=lambda s: 'x' + str(s + 1))"
   ]
  },
  {
   "cell_type": "code",
   "execution_count": 27,
   "metadata": {},
   "outputs": [
    {
     "data": {
      "text/html": [
       "<div>\n",
       "<style scoped>\n",
       "    .dataframe tbody tr th:only-of-type {\n",
       "        vertical-align: middle;\n",
       "    }\n",
       "\n",
       "    .dataframe tbody tr th {\n",
       "        vertical-align: top;\n",
       "    }\n",
       "\n",
       "    .dataframe thead th {\n",
       "        text-align: right;\n",
       "    }\n",
       "</style>\n",
       "<table border=\"1\" class=\"dataframe\">\n",
       "  <thead>\n",
       "    <tr style=\"text-align: right;\">\n",
       "      <th></th>\n",
       "      <th>id</th>\n",
       "      <th>localidade</th>\n",
       "      <th>Rede_de_Protecao_assistencia</th>\n",
       "      <th>IDH</th>\n",
       "      <th>PIB</th>\n",
       "      <th>GINI</th>\n",
       "      <th>CLASS</th>\n",
       "    </tr>\n",
       "  </thead>\n",
       "  <tbody>\n",
       "    <tr>\n",
       "      <th>x10</th>\n",
       "      <td>150080</td>\n",
       "      <td>Ananindeua</td>\n",
       "      <td>0.6</td>\n",
       "      <td>0.962466</td>\n",
       "      <td>0.035283</td>\n",
       "      <td>0.775510</td>\n",
       "      <td>0</td>\n",
       "    </tr>\n",
       "    <tr>\n",
       "      <th>x18</th>\n",
       "      <td>150130</td>\n",
       "      <td>Barcarena</td>\n",
       "      <td>1.0</td>\n",
       "      <td>0.887399</td>\n",
       "      <td>0.132871</td>\n",
       "      <td>0.836735</td>\n",
       "      <td>0</td>\n",
       "    </tr>\n",
       "    <tr>\n",
       "      <th>x19</th>\n",
       "      <td>150140</td>\n",
       "      <td>Belém</td>\n",
       "      <td>0.6</td>\n",
       "      <td>1.000000</td>\n",
       "      <td>0.057528</td>\n",
       "      <td>0.877551</td>\n",
       "      <td>0</td>\n",
       "    </tr>\n",
       "    <tr>\n",
       "      <th>x34</th>\n",
       "      <td>150220</td>\n",
       "      <td>Capanema</td>\n",
       "      <td>0.8</td>\n",
       "      <td>0.878016</td>\n",
       "      <td>0.037583</td>\n",
       "      <td>0.775510</td>\n",
       "      <td>0</td>\n",
       "    </tr>\n",
       "    <tr>\n",
       "      <th>x36</th>\n",
       "      <td>150240</td>\n",
       "      <td>Castanhal</td>\n",
       "      <td>0.8</td>\n",
       "      <td>0.902145</td>\n",
       "      <td>0.051893</td>\n",
       "      <td>0.795918</td>\n",
       "      <td>0</td>\n",
       "    </tr>\n",
       "    <tr>\n",
       "      <th>x66</th>\n",
       "      <td>150420</td>\n",
       "      <td>Marabá</td>\n",
       "      <td>1.0</td>\n",
       "      <td>0.895442</td>\n",
       "      <td>0.125115</td>\n",
       "      <td>0.836735</td>\n",
       "      <td>0</td>\n",
       "    </tr>\n",
       "    <tr>\n",
       "      <th>x69</th>\n",
       "      <td>150442</td>\n",
       "      <td>Marituba</td>\n",
       "      <td>0.6</td>\n",
       "      <td>0.906166</td>\n",
       "      <td>0.033082</td>\n",
       "      <td>0.734694</td>\n",
       "      <td>0</td>\n",
       "    </tr>\n",
       "    <tr>\n",
       "      <th>x89</th>\n",
       "      <td>150550</td>\n",
       "      <td>Paragominas</td>\n",
       "      <td>0.6</td>\n",
       "      <td>0.864611</td>\n",
       "      <td>0.078721</td>\n",
       "      <td>0.836735</td>\n",
       "      <td>0</td>\n",
       "    </tr>\n",
       "    <tr>\n",
       "      <th>x114</th>\n",
       "      <td>150680</td>\n",
       "      <td>Santarém</td>\n",
       "      <td>0.4</td>\n",
       "      <td>0.926273</td>\n",
       "      <td>0.040286</td>\n",
       "      <td>0.877551</td>\n",
       "      <td>0</td>\n",
       "    </tr>\n",
       "    <tr>\n",
       "      <th>x138</th>\n",
       "      <td>150810</td>\n",
       "      <td>Tucuruí</td>\n",
       "      <td>1.0</td>\n",
       "      <td>0.892761</td>\n",
       "      <td>0.145617</td>\n",
       "      <td>0.816327</td>\n",
       "      <td>0</td>\n",
       "    </tr>\n",
       "    <tr>\n",
       "      <th>x143</th>\n",
       "      <td>150835</td>\n",
       "      <td>Vitória do Xingu</td>\n",
       "      <td>0.8</td>\n",
       "      <td>0.798928</td>\n",
       "      <td>0.935595</td>\n",
       "      <td>0.775510</td>\n",
       "      <td>0</td>\n",
       "    </tr>\n",
       "  </tbody>\n",
       "</table>\n",
       "</div>"
      ],
      "text/plain": [
       "          id        localidade  Rede_de_Protecao_assistencia       IDH  \\\n",
       "x10   150080        Ananindeua                           0.6  0.962466   \n",
       "x18   150130         Barcarena                           1.0  0.887399   \n",
       "x19   150140             Belém                           0.6  1.000000   \n",
       "x34   150220          Capanema                           0.8  0.878016   \n",
       "x36   150240         Castanhal                           0.8  0.902145   \n",
       "x66   150420            Marabá                           1.0  0.895442   \n",
       "x69   150442          Marituba                           0.6  0.906166   \n",
       "x89   150550       Paragominas                           0.6  0.864611   \n",
       "x114  150680          Santarém                           0.4  0.926273   \n",
       "x138  150810           Tucuruí                           1.0  0.892761   \n",
       "x143  150835  Vitória do Xingu                           0.8  0.798928   \n",
       "\n",
       "           PIB      GINI  CLASS  \n",
       "x10   0.035283  0.775510      0  \n",
       "x18   0.132871  0.836735      0  \n",
       "x19   0.057528  0.877551      0  \n",
       "x34   0.037583  0.775510      0  \n",
       "x36   0.051893  0.795918      0  \n",
       "x66   0.125115  0.836735      0  \n",
       "x69   0.033082  0.734694      0  \n",
       "x89   0.078721  0.836735      0  \n",
       "x114  0.040286  0.877551      0  \n",
       "x138  0.145617  0.816327      0  \n",
       "x143  0.935595  0.775510      0  "
      ]
     },
     "execution_count": 27,
     "metadata": {},
     "output_type": "execute_result"
    }
   ],
   "source": [
    "df_munic.query('CLASS == 0')"
   ]
  },
  {
   "cell_type": "code",
   "execution_count": 28,
   "metadata": {},
   "outputs": [],
   "source": [
    "import geopandas as gpd\n",
    "\n",
    "gdf_munic = gpd.read_file('json/munics.geojson')\n",
    "\n",
    "for value in gdf_munic['id']:\n",
    "    gdf_munic['id'].replace(to_replace=value, value=value[:6], regex=True,inplace=True)\n",
    "\n",
    "\n",
    "df_teste = pd.merge(df_munic, gdf_munic, on='id', how='left')\n",
    "\n",
    "df_teste = df_teste[['id', 'localidade', 'geometry']]\n",
    "\n",
    "df_teste['classe'] = classification"
   ]
  },
  {
   "cell_type": "code",
   "execution_count": 29,
   "metadata": {},
   "outputs": [],
   "source": [
    "clusdict={5: '1 - Extremely High', 4: '2 - Very High', 3: '3 - High', 2: '4 - Medium', 1: '5 - Low', 0: '6 - Very Low' }\n",
    "df_teste['legenda'] = df_teste['classe'].map(clusdict)\n",
    "df_teste['classe'] = classification\n",
    "\n",
    "gpd_teste = gpd.GeoDataFrame(df_teste)\n",
    "\n",
    "ax = gpd_teste.plot(column='legenda', categorical=True, legend=True, legend_kwds={'loc': 'upper right'}, figsize=(10,10), cmap='prism')\n",
    "\n",
    "def replace_legend_items(legend, mapping):\n",
    "    for txt in legend.texts:\n",
    "        for k,v in mapping.items():\n",
    "            if txt.get_text() == str(k):\n",
    "                txt.set_text(v)\n",
    "\n",
    "replace_legend_items(ax.get_legend(), clusdict)\n",
    "\n",
    "ax.set_axis_off()"
   ]
  },
  {
   "cell_type": "code",
   "execution_count": 30,
   "metadata": {},
   "outputs": [],
   "source": [
    "denuncias = pd.read_json('json/casos_violencia_por_municipio.json')\n",
    "denuncias = denuncias.rename(index=lambda s: 'x' + str(s + 1))\n",
    "\n",
    "df_munic['denuncias'] = denuncias['casos']"
   ]
  },
  {
   "cell_type": "code",
   "execution_count": 31,
   "metadata": {},
   "outputs": [
    {
     "data": {
      "text/html": [
       "<div>\n",
       "<style scoped>\n",
       "    .dataframe tbody tr th:only-of-type {\n",
       "        vertical-align: middle;\n",
       "    }\n",
       "\n",
       "    .dataframe tbody tr th {\n",
       "        vertical-align: top;\n",
       "    }\n",
       "\n",
       "    .dataframe thead th {\n",
       "        text-align: right;\n",
       "    }\n",
       "</style>\n",
       "<table border=\"1\" class=\"dataframe\">\n",
       "  <thead>\n",
       "    <tr style=\"text-align: right;\">\n",
       "      <th></th>\n",
       "      <th>id</th>\n",
       "      <th>localidade</th>\n",
       "      <th>Rede_de_Protecao_assistencia</th>\n",
       "      <th>IDH</th>\n",
       "      <th>PIB</th>\n",
       "      <th>GINI</th>\n",
       "      <th>CLASS</th>\n",
       "      <th>denuncias</th>\n",
       "    </tr>\n",
       "  </thead>\n",
       "  <tbody>\n",
       "    <tr>\n",
       "      <th>x1</th>\n",
       "      <td>150010</td>\n",
       "      <td>Abaetetuba</td>\n",
       "      <td>0.8</td>\n",
       "      <td>0.841823</td>\n",
       "      <td>0.014360</td>\n",
       "      <td>0.816327</td>\n",
       "      <td>1</td>\n",
       "      <td>77</td>\n",
       "    </tr>\n",
       "    <tr>\n",
       "      <th>x2</th>\n",
       "      <td>150013</td>\n",
       "      <td>Abel Figueiredo</td>\n",
       "      <td>0.2</td>\n",
       "      <td>0.833780</td>\n",
       "      <td>0.021286</td>\n",
       "      <td>0.755102</td>\n",
       "      <td>1</td>\n",
       "      <td>0</td>\n",
       "    </tr>\n",
       "    <tr>\n",
       "      <th>x3</th>\n",
       "      <td>150020</td>\n",
       "      <td>Acará</td>\n",
       "      <td>0.6</td>\n",
       "      <td>0.678284</td>\n",
       "      <td>0.028919</td>\n",
       "      <td>0.734694</td>\n",
       "      <td>2</td>\n",
       "      <td>11</td>\n",
       "    </tr>\n",
       "    <tr>\n",
       "      <th>x4</th>\n",
       "      <td>150030</td>\n",
       "      <td>Afuá</td>\n",
       "      <td>0.6</td>\n",
       "      <td>0.655496</td>\n",
       "      <td>0.014173</td>\n",
       "      <td>0.795918</td>\n",
       "      <td>1</td>\n",
       "      <td>1</td>\n",
       "    </tr>\n",
       "    <tr>\n",
       "      <th>x5</th>\n",
       "      <td>150034</td>\n",
       "      <td>Água Azul do Norte</td>\n",
       "      <td>0.2</td>\n",
       "      <td>0.756032</td>\n",
       "      <td>0.036816</td>\n",
       "      <td>0.755102</td>\n",
       "      <td>2</td>\n",
       "      <td>4</td>\n",
       "    </tr>\n",
       "    <tr>\n",
       "      <th>...</th>\n",
       "      <td>...</td>\n",
       "      <td>...</td>\n",
       "      <td>...</td>\n",
       "      <td>...</td>\n",
       "      <td>...</td>\n",
       "      <td>...</td>\n",
       "      <td>...</td>\n",
       "      <td>...</td>\n",
       "    </tr>\n",
       "    <tr>\n",
       "      <th>x140</th>\n",
       "      <td>150815</td>\n",
       "      <td>Uruará</td>\n",
       "      <td>0.2</td>\n",
       "      <td>0.789544</td>\n",
       "      <td>0.028277</td>\n",
       "      <td>0.775510</td>\n",
       "      <td>1</td>\n",
       "      <td>2</td>\n",
       "    </tr>\n",
       "    <tr>\n",
       "      <th>x141</th>\n",
       "      <td>150820</td>\n",
       "      <td>Vigia</td>\n",
       "      <td>0.0</td>\n",
       "      <td>0.827078</td>\n",
       "      <td>0.006443</td>\n",
       "      <td>0.734694</td>\n",
       "      <td>2</td>\n",
       "      <td>10</td>\n",
       "    </tr>\n",
       "    <tr>\n",
       "      <th>x142</th>\n",
       "      <td>150830</td>\n",
       "      <td>Viseu</td>\n",
       "      <td>0.2</td>\n",
       "      <td>0.690349</td>\n",
       "      <td>0.009042</td>\n",
       "      <td>0.755102</td>\n",
       "      <td>2</td>\n",
       "      <td>4</td>\n",
       "    </tr>\n",
       "    <tr>\n",
       "      <th>x143</th>\n",
       "      <td>150835</td>\n",
       "      <td>Vitória do Xingu</td>\n",
       "      <td>0.8</td>\n",
       "      <td>0.798928</td>\n",
       "      <td>0.935595</td>\n",
       "      <td>0.775510</td>\n",
       "      <td>0</td>\n",
       "      <td>6</td>\n",
       "    </tr>\n",
       "    <tr>\n",
       "      <th>x144</th>\n",
       "      <td>150840</td>\n",
       "      <td>Xinguara</td>\n",
       "      <td>0.2</td>\n",
       "      <td>0.865952</td>\n",
       "      <td>0.082895</td>\n",
       "      <td>0.795918</td>\n",
       "      <td>1</td>\n",
       "      <td>13</td>\n",
       "    </tr>\n",
       "  </tbody>\n",
       "</table>\n",
       "<p>144 rows × 8 columns</p>\n",
       "</div>"
      ],
      "text/plain": [
       "          id          localidade  Rede_de_Protecao_assistencia       IDH  \\\n",
       "x1    150010          Abaetetuba                           0.8  0.841823   \n",
       "x2    150013     Abel Figueiredo                           0.2  0.833780   \n",
       "x3    150020               Acará                           0.6  0.678284   \n",
       "x4    150030                Afuá                           0.6  0.655496   \n",
       "x5    150034  Água Azul do Norte                           0.2  0.756032   \n",
       "...      ...                 ...                           ...       ...   \n",
       "x140  150815              Uruará                           0.2  0.789544   \n",
       "x141  150820               Vigia                           0.0  0.827078   \n",
       "x142  150830               Viseu                           0.2  0.690349   \n",
       "x143  150835    Vitória do Xingu                           0.8  0.798928   \n",
       "x144  150840            Xinguara                           0.2  0.865952   \n",
       "\n",
       "           PIB      GINI  CLASS  denuncias  \n",
       "x1    0.014360  0.816327      1         77  \n",
       "x2    0.021286  0.755102      1          0  \n",
       "x3    0.028919  0.734694      2         11  \n",
       "x4    0.014173  0.795918      1          1  \n",
       "x5    0.036816  0.755102      2          4  \n",
       "...        ...       ...    ...        ...  \n",
       "x140  0.028277  0.775510      1          2  \n",
       "x141  0.006443  0.734694      2         10  \n",
       "x142  0.009042  0.755102      2          4  \n",
       "x143  0.935595  0.775510      0          6  \n",
       "x144  0.082895  0.795918      1         13  \n",
       "\n",
       "[144 rows x 8 columns]"
      ]
     },
     "execution_count": 31,
     "metadata": {},
     "output_type": "execute_result"
    }
   ],
   "source": [
    "df_munic"
   ]
  },
  {
   "cell_type": "code",
   "execution_count": 32,
   "metadata": {},
   "outputs": [
    {
     "data": {
      "text/plain": [
       "[Text(0.5, 89.68626392038504, 'Support and Protection Index (IAP)'),\n",
       " Text(80.47222222222221, 0.5, 'Denunciations')]"
      ]
     },
     "execution_count": 32,
     "metadata": {},
     "output_type": "execute_result"
    }
   ],
   "source": [
    "data = df_munic\n",
    "\n",
    "sns.set_style(\"whitegrid\")\n",
    " \n",
    "# depict visualization\n",
    "gfg = sns.boxplot(x=\"Rede_de_Protecao_assistencia\", y=\"denuncias\", data=data, palette='hot_r')\n",
    "\n",
    "gfg.set_ylim(0, 120)\n",
    "gfg.set(xlabel =\"Support and Protection Index (IAP)\", ylabel = \"Denunciations\")\n",
    "\n"
   ]
  }
 ],
 "metadata": {
  "kernelspec": {
   "display_name": "Python 3",
   "language": "python",
   "name": "python3"
  },
  "language_info": {
   "codemirror_mode": {
    "name": "ipython",
    "version": 3
   },
   "file_extension": ".py",
   "mimetype": "text/x-python",
   "name": "python",
   "nbconvert_exporter": "python",
   "pygments_lexer": "ipython3",
   "version": "3.11.1"
  },
  "orig_nbformat": 4,
  "vscode": {
   "interpreter": {
    "hash": "f286dd25d526d1cfdf31e21d2e1bd92c1c5818e3d756afc4a5991f4c53b50bc8"
   }
  }
 },
 "nbformat": 4,
 "nbformat_minor": 2
}
